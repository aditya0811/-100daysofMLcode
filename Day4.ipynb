{
  "nbformat": 4,
  "nbformat_minor": 0,
  "metadata": {
    "colab": {
      "name": "Day4.ipynb",
      "version": "0.3.2",
      "provenance": [],
      "include_colab_link": true
    },
    "kernelspec": {
      "name": "python3",
      "display_name": "Python 3"
    }
  },
  "cells": [
    {
      "cell_type": "markdown",
      "metadata": {
        "id": "view-in-github",
        "colab_type": "text"
      },
      "source": [
        "<a href=\"https://colab.research.google.com/github/aditya0811/-100daysofMLcode/blob/master/Day4.ipynb\" target=\"_parent\"><img src=\"https://colab.research.google.com/assets/colab-badge.svg\" alt=\"Open In Colab\"/></a>"
      ]
    },
    {
      "metadata": {
        "id": "uAn7cy0AC9Pg",
        "colab_type": "code",
        "colab": {}
      },
      "cell_type": "code",
      "source": [
        "import numpy as np # linear algebra\n",
        "import pandas as pd # data processing, CSV file I/O (e.g. pd.read_csv)\n"
      ],
      "execution_count": 0,
      "outputs": []
    },
    {
      "metadata": {
        "id": "U-ehnPYHHCtu",
        "colab_type": "text"
      },
      "cell_type": "markdown",
      "source": [
        "**An easy way of loading data from drive in Google Collab**"
      ]
    },
    {
      "metadata": {
        "id": "BTLv9cnrHIvO",
        "colab_type": "text"
      },
      "cell_type": "markdown",
      "source": [
        "*   Click on black small arrow on the left\n",
        "*   Click files tab\n",
        "*   Search for your file and then right click on it\n",
        "*   Select copy path\n",
        "*   Paste it and add '/' before the path\n",
        "\n",
        "```\n",
        "# df_train= pd.read_csv(\"/YOUR FILE PATH\")\n",
        "```\n",
        "\n",
        "\n",
        "\n",
        "\n",
        "\n"
      ]
    },
    {
      "metadata": {
        "id": "3ctF6rEsNKo8",
        "colab_type": "text"
      },
      "cell_type": "markdown",
      "source": [
        "**Loading files**\n",
        "\n",
        "\n",
        "1.   Files may be separated by ':' , 'tabs'\n",
        "> ```\n",
        "df = pd.read_csv('student_scores.csv', sep=':')\n",
        "```\n",
        "2. If header row is at 2 position use below code to remove all rows above it and make that as header.\n",
        "> ```\n",
        "df = pd.read_csv('student_scores.csv', header=2)\n",
        "```\n",
        "3.   If columns labels are not included in your file, you can use header=None to prevent your first line of data from being misinterpreted as column labels.\n",
        "\n",
        "4.   You can also specify your own column labels like this\n",
        "> ```\n",
        "labels = ['id', 'name', 'attendance', 'hw', 'test1', 'project1', 'test2', 'project2', 'final']\n",
        "df = pd.read_csv('student_scores.csv', names=labels)\n",
        "```\n",
        "5.   Saving your edited DataFrame\n",
        "> ```\n",
        "df_powerplant.to_csv('powerplant_data_edited.csv')\n",
        "```\n",
        "      Use parameter <index=False> to avoid a column Unnamed:0 (the default addition of index column)\n",
        "\n",
        "\n",
        "\n",
        "\n",
        "\n",
        "\n",
        "\n",
        "\n",
        "\n",
        "\n",
        "\n",
        "\n",
        "\n",
        "    \n",
        "\n"
      ]
    },
    {
      "metadata": {
        "id": "865pmU-3Zm75",
        "colab_type": "code",
        "colab": {}
      },
      "cell_type": "code",
      "source": [
        "df= pd.read_csv(\"/content/sample_data/california_housing_test.csv\")"
      ],
      "execution_count": 0,
      "outputs": []
    }
  ]
}