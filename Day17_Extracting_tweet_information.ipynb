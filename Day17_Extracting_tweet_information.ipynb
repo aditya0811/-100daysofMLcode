{
  "nbformat": 4,
  "nbformat_minor": 0,
  "metadata": {
    "colab": {
      "name": "Extracting tweet information.ipynb",
      "version": "0.3.2",
      "provenance": [],
      "collapsed_sections": [],
      "toc_visible": true,
      "include_colab_link": true
    },
    "kernelspec": {
      "name": "python3",
      "display_name": "Python 3"
    },
    "accelerator": "GPU"
  },
  "cells": [
    {
      "cell_type": "markdown",
      "metadata": {
        "id": "view-in-github",
        "colab_type": "text"
      },
      "source": [
        "<a href=\"https://colab.research.google.com/github/aditya0811/-100daysofMLcode/blob/master/Day17_Extracting_tweet_information.ipynb\" target=\"_parent\"><img src=\"https://colab.research.google.com/assets/colab-badge.svg\" alt=\"Open In Colab\"/></a>"
      ]
    },
    {
      "metadata": {
        "id": "jxs7JQSJKmYL",
        "colab_type": "text"
      },
      "cell_type": "markdown",
      "source": [
        "**Project Outcomes**\n",
        "\n",
        "\n",
        "\n",
        "*   Using Twitter API to extract information about tweets from any page on twitter\n",
        "*   [Understanding object Tweet Data Dictionary](https://developer.twitter.com/en/docs/tweets/data-dictionary/overview/tweet-object)\n",
        "*   Understanding the JSON format structure for a tweet and successfully extracted required information from the page WeRateDogs(@dog_rates) using Tweepy library and exported it to a csv file.\n",
        "\n",
        "\n",
        "\n",
        "\n",
        "\n",
        "\n"
      ]
    },
    {
      "metadata": {
        "id": "YsE_yXtM5u5a",
        "colab_type": "code",
        "colab": {}
      },
      "cell_type": "code",
      "source": [
        "import pandas as pd\n",
        "import tweepy\n",
        "from tweepy import OAuthHandler\n",
        "import json\n",
        "from timeit import default_timer as timer\n"
      ],
      "execution_count": 0,
      "outputs": []
    },
    {
      "metadata": {
        "id": "b6HHIK-ukxZv",
        "colab_type": "code",
        "colab": {}
      },
      "cell_type": "code",
      "source": [
        "#!/usr/bin/env python\n",
        "# encoding: utf-8\n",
        "\n",
        "import tweepy #https://github.com/tweepy/tweepy\n",
        "import csv\n",
        "\n",
        "def get_all_tweets(screen_name):\n",
        "    #Twitter only allows access to a users most recent 3240 tweets with this method\n",
        "    consumer_key = 'UNjSKCRoUwWdc4lf4wL66eRt9'\n",
        "    consumer_secret = 'QXolFunD2xhQtmA257VII5xE5ehGDtkEyjBtEKvr2V3VR0ymim'\n",
        "    access_token = '195695019-lmM0rVNRjEEIPeaPgQybGRAPhBRSHe1qfXeZZddJ'\n",
        "    access_key = 'FFvd1MOVEgqkkq8X0BTrrAISt6VHtPHpI8sSVPqQsVtjJ'\n",
        "\n",
        "\n",
        "    #authorize twitter, initialize tweepy\n",
        "    auth = tweepy.OAuthHandler(consumer_key, consumer_secret)\n",
        "    auth.set_access_token(access_token, access_key)\n",
        "    api = tweepy.API(auth,wait_on_rate_limit=True)\n",
        "\n",
        "    #initialize a list to hold all the tweepy Tweets\n",
        "    alltweets = []  \n",
        "\n",
        "    #make initial request for most recent tweets (200 is the maximum allowed count)\n",
        "    new_tweets = api.user_timeline(screen_name = screen_name,count=200)\n",
        "\n",
        "    #save most recent tweets\n",
        "    alltweets.extend(new_tweets)\n",
        "\n",
        "    #save the id of the oldest tweet less one\n",
        "    oldest = alltweets[-1].id - 1\n",
        "\n",
        "    #keep grabbing tweets until there are no tweets left to grab\n",
        "    while len(new_tweets) < 10:\n",
        "        print(\"getting tweets before %s\" % (oldest))\n",
        "\n",
        "        #all subsiquent requests use the max_id param to prevent duplicates\n",
        "        new_tweets = api.user_timeline(screen_name = screen_name,count=200,max_id=oldest)\n",
        "\n",
        "        #save most recent tweets\n",
        "        alltweets.extend(new_tweets)\n",
        "\n",
        "        #update the id of the oldest tweet less one\n",
        "        oldest = alltweets[-1].id - 1\n",
        "\n",
        "        print(\"...%s tweets downloaded so far\" % (len(alltweets)))\n",
        "\n",
        "    #transform the tweepy tweets into a 2D array that will populate the csv \n",
        "    outtweets = [[tweet.id_str, tweet.created_at, tweet.text,tweet.source,tweet.retweet_count,tweet.favorite_count,tweet.entities['urls'],tweet.in_reply_to_status_id_str,tweet.entities['hashtags']] for tweet in alltweets]\n",
        "    #write the csv  \n",
        "    with open('%s_tweets.csv' % screen_name, 'w',encoding='utf-8') as f:\n",
        "        writer = csv.writer(f)\n",
        "        writer.writerow([\"id_str\",\"created_at\",\"text\",\"source\",'retweet_count','favorite_count','extended_urls','in_reply_to_status_id_str','keywords'])\n",
        "        writer.writerows(outtweets)\n",
        "    pass\n",
        "\n",
        "\n",
        "if __name__ == '__main__':\n",
        "    #pass in the username of the account you want to download\n",
        "    get_all_tweets(\"dog_rates\")\n",
        "   "
      ],
      "execution_count": 0,
      "outputs": []
    },
    {
      "metadata": {
        "id": "1x4ED6C16thW",
        "colab_type": "code",
        "colab": {}
      },
      "cell_type": "code",
      "source": [
        "df2=pd.read_csv('dog_rates_tweets.csv')"
      ],
      "execution_count": 0,
      "outputs": []
    },
    {
      "metadata": {
        "id": "swEcah-Ta7yW",
        "colab_type": "code",
        "outputId": "4f8c9a49-2ef2-431d-8b6d-777fba795ed1",
        "colab": {
          "base_uri": "https://localhost:8080/",
          "height": 411
        }
      },
      "cell_type": "code",
      "source": [
        "df2.head(5)"
      ],
      "execution_count": 0,
      "outputs": [
        {
          "output_type": "execute_result",
          "data": {
            "text/html": [
              "<div>\n",
              "<style scoped>\n",
              "    .dataframe tbody tr th:only-of-type {\n",
              "        vertical-align: middle;\n",
              "    }\n",
              "\n",
              "    .dataframe tbody tr th {\n",
              "        vertical-align: top;\n",
              "    }\n",
              "\n",
              "    .dataframe thead th {\n",
              "        text-align: right;\n",
              "    }\n",
              "</style>\n",
              "<table border=\"1\" class=\"dataframe\">\n",
              "  <thead>\n",
              "    <tr style=\"text-align: right;\">\n",
              "      <th></th>\n",
              "      <th>id_str</th>\n",
              "      <th>created_at</th>\n",
              "      <th>text</th>\n",
              "      <th>source</th>\n",
              "      <th>retweet_count</th>\n",
              "      <th>favorite_count</th>\n",
              "      <th>extended_urls</th>\n",
              "      <th>in_reply_to_status_id_str</th>\n",
              "      <th>keywords</th>\n",
              "    </tr>\n",
              "  </thead>\n",
              "  <tbody>\n",
              "    <tr>\n",
              "      <th>0</th>\n",
              "      <td>1096886890341400576</td>\n",
              "      <td>2019-02-16 21:39:48</td>\n",
              "      <td>@RachiRojas @zilkerbark @Lin_Manuel yesss</td>\n",
              "      <td>Twitter for iPhone</td>\n",
              "      <td>3</td>\n",
              "      <td>313</td>\n",
              "      <td>[]</td>\n",
              "      <td>1.096887e+18</td>\n",
              "      <td>[]</td>\n",
              "    </tr>\n",
              "    <tr>\n",
              "      <th>1</th>\n",
              "      <td>1096870268394340352</td>\n",
              "      <td>2019-02-16 20:33:45</td>\n",
              "      <td>This is Abby. She never leaves the house witho...</td>\n",
              "      <td>Twitter for iPhone</td>\n",
              "      <td>9016</td>\n",
              "      <td>92774</td>\n",
              "      <td>[{'url': 'https://t.co/79xdShKMwI', 'expanded_...</td>\n",
              "      <td>NaN</td>\n",
              "      <td>[]</td>\n",
              "    </tr>\n",
              "    <tr>\n",
              "      <th>2</th>\n",
              "      <td>1096835540878385152</td>\n",
              "      <td>2019-02-16 18:15:45</td>\n",
              "      <td>@DavidDobrik 3 dogs in the latest vlog i reall...</td>\n",
              "      <td>Twitter for iPhone</td>\n",
              "      <td>163</td>\n",
              "      <td>2620</td>\n",
              "      <td>[]</td>\n",
              "      <td>NaN</td>\n",
              "      <td>[]</td>\n",
              "    </tr>\n",
              "    <tr>\n",
              "      <th>3</th>\n",
              "      <td>1096807552484925441</td>\n",
              "      <td>2019-02-16 16:24:32</td>\n",
              "      <td>@limecrisplee HAPPY BIRTHDAY 🎈</td>\n",
              "      <td>Twitter for iPhone</td>\n",
              "      <td>0</td>\n",
              "      <td>32</td>\n",
              "      <td>[]</td>\n",
              "      <td>1.096806e+18</td>\n",
              "      <td>[]</td>\n",
              "    </tr>\n",
              "    <tr>\n",
              "      <th>4</th>\n",
              "      <td>1096470333471612929</td>\n",
              "      <td>2019-02-15 18:04:33</td>\n",
              "      <td>@HamishSutherla5 if you go to past campaigns (...</td>\n",
              "      <td>Twitter for iPhone</td>\n",
              "      <td>7</td>\n",
              "      <td>779</td>\n",
              "      <td>[{'url': 'https://t.co/7JWPFlNwbJ', 'expanded_...</td>\n",
              "      <td>1.096469e+18</td>\n",
              "      <td>[]</td>\n",
              "    </tr>\n",
              "  </tbody>\n",
              "</table>\n",
              "</div>"
            ],
            "text/plain": [
              "                id_str           created_at  \\\n",
              "0  1096886890341400576  2019-02-16 21:39:48   \n",
              "1  1096870268394340352  2019-02-16 20:33:45   \n",
              "2  1096835540878385152  2019-02-16 18:15:45   \n",
              "3  1096807552484925441  2019-02-16 16:24:32   \n",
              "4  1096470333471612929  2019-02-15 18:04:33   \n",
              "\n",
              "                                                text              source  \\\n",
              "0          @RachiRojas @zilkerbark @Lin_Manuel yesss  Twitter for iPhone   \n",
              "1  This is Abby. She never leaves the house witho...  Twitter for iPhone   \n",
              "2  @DavidDobrik 3 dogs in the latest vlog i reall...  Twitter for iPhone   \n",
              "3                     @limecrisplee HAPPY BIRTHDAY 🎈  Twitter for iPhone   \n",
              "4  @HamishSutherla5 if you go to past campaigns (...  Twitter for iPhone   \n",
              "\n",
              "   retweet_count  favorite_count  \\\n",
              "0              3             313   \n",
              "1           9016           92774   \n",
              "2            163            2620   \n",
              "3              0              32   \n",
              "4              7             779   \n",
              "\n",
              "                                       extended_urls  \\\n",
              "0                                                 []   \n",
              "1  [{'url': 'https://t.co/79xdShKMwI', 'expanded_...   \n",
              "2                                                 []   \n",
              "3                                                 []   \n",
              "4  [{'url': 'https://t.co/7JWPFlNwbJ', 'expanded_...   \n",
              "\n",
              "   in_reply_to_status_id_str keywords  \n",
              "0               1.096887e+18       []  \n",
              "1                        NaN       []  \n",
              "2                        NaN       []  \n",
              "3               1.096806e+18       []  \n",
              "4               1.096469e+18       []  "
            ]
          },
          "metadata": {
            "tags": []
          },
          "execution_count": 31
        }
      ]
    },
    {
      "metadata": {
        "id": "0urfFX7n6QBr",
        "colab_type": "code",
        "colab": {}
      },
      "cell_type": "code",
      "source": [
        ""
      ],
      "execution_count": 0,
      "outputs": []
    }
  ]
}