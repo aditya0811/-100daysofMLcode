{
  "nbformat": 4,
  "nbformat_minor": 0,
  "metadata": {
    "colab": {
      "name": "VGG19_102_classification.ipynb",
      "version": "0.3.2",
      "provenance": [],
      "collapsed_sections": [],
      "include_colab_link": true
    },
    "kernelspec": {
      "name": "python3",
      "display_name": "Python 3"
    },
    "accelerator": "GPU"
  },
  "cells": [
    {
      "cell_type": "markdown",
      "metadata": {
        "id": "view-in-github",
        "colab_type": "text"
      },
      "source": [
        "<a href=\"https://colab.research.google.com/github/aditya0811/-100daysofMLcode/blob/master/VGG19_102_classification.ipynb\" target=\"_parent\"><img src=\"https://colab.research.google.com/assets/colab-badge.svg\" alt=\"Open In Colab\"/></a>"
      ]
    },
    {
      "metadata": {
        "id": "U89truZLZCSt",
        "colab_type": "text"
      },
      "cell_type": "markdown",
      "source": [
        "Using VGG19 to build a classifier using 6552 training files and 818 validation files.   "
      ]
    },
    {
      "metadata": {
        "id": "WxORB852Pa0X",
        "colab_type": "text"
      },
      "cell_type": "markdown",
      "source": [
        "**Outcomes of this projects**\n",
        "\n",
        "\n",
        "*   Trained the model using VGG19 architecture\n",
        "*   Saved model parameters for further training \n",
        "*   About VGG19 \n",
        "*   Loss function to use\n",
        "*   Adding dropout layer\n",
        "*   Using Transfer learning where we train the model using pretrained models like VGG19 or resnet\n",
        "*  Tuning of Hyperparameters like changing learning rate,optimiser,loss function.\n",
        "\n",
        "\n",
        "\n",
        "\n"
      ]
    },
    {
      "metadata": {
        "id": "T9Tz5jNTcFLP",
        "colab_type": "text"
      },
      "cell_type": "markdown",
      "source": [
        "**[VGG19](https://forums.fast.ai/t/vgg-strength-and-limitations/1218)**\n",
        "\n",
        "*   Only 3x3 convolution and 2x2 pooling are used throughout the whole network. \n",
        "\n",
        "*   VGG also shows that the depth of the network plays an important role. Deeper networks give better results\n",
        "\n",
        "*   19 here refers to the weights of the network in the layer.\n",
        "\n",
        "\n"
      ]
    },
    {
      "metadata": {
        "id": "3agrGnXJYEQS",
        "colab_type": "text"
      },
      "cell_type": "markdown",
      "source": [
        "##DEALING WITH OVERFITTING"
      ]
    },
    {
      "metadata": {
        "id": "TD0ktpMlYRti",
        "colab_type": "text"
      },
      "cell_type": "markdown",
      "source": [
        "\n",
        "\n",
        "*   **Adding Dropout**\n",
        " Overfitting occurs when the ConvNet model with high number of weights gets trained on the training data set with less samples and the model learns to identify the intrinsic noise of the training data.\n",
        " say dropout=0.2 will randomly drop 20% of the data.\n",
        "*   **Freezing weights **  of the layer\n",
        " \n",
        "\n"
      ]
    },
    {
      "metadata": {
        "id": "NApOm_-wYNw1",
        "colab_type": "text"
      },
      "cell_type": "markdown",
      "source": [
        "## MAKING CHANGES IN OUR MODEL MANUALLY"
      ]
    },
    {
      "metadata": {
        "id": "gjLB-tpCH-Tq",
        "colab_type": "text"
      },
      "cell_type": "markdown",
      "source": [
        "\n",
        "\n",
        "**Removing layers in NN,here last 3 layers**\n",
        "```\n",
        "model.classifier = nn.Sequential(*[model.classifier[i] for i in range(4)])\n",
        "print(model.classifier)\n",
        "```\n",
        "\n",
        "\n",
        "```\n",
        "model.classifier = nn.Sequential(*list(model.classifier.children())[:-3])\n",
        "```\n",
        "\n",
        "\n"
      ]
    },
    {
      "metadata": {
        "id": "DgNfbem-JbWT",
        "colab_type": "text"
      },
      "cell_type": "markdown",
      "source": [
        "**When is data overfitting or underfitting**\n",
        "\n",
        "*   Overfitting if: training loss << validation loss\n",
        "*   Underfitting if: training loss >> validation loss\n",
        "*   Just right if training loss ~ validation loss"
      ]
    },
    {
      "metadata": {
        "id": "HNT3qX5upGMh",
        "colab_type": "code",
        "colab": {}
      },
      "cell_type": "code",
      "source": [
        "!pip install pillow==4.1.1\n",
        "%reload_ext autoreload\n",
        "%autoreload"
      ],
      "execution_count": 0,
      "outputs": []
    },
    {
      "metadata": {
        "id": "pXu_CKNeQAeO",
        "colab_type": "code",
        "colab": {}
      },
      "cell_type": "code",
      "source": [
        "%matplotlib inline\n",
        "%config InlineBackend.figure_format = 'retina'\n",
        "import time\n",
        "import json\n",
        "import copy\n",
        "import matplotlib.pyplot as plt\n",
        "import seaborn as sns\n",
        "import numpy as np\n",
        "from PIL import Image\n",
        "from collections import OrderedDict\n",
        "import torch\n",
        "from torch import nn, optim\n",
        "from torch.optim import lr_scheduler\n",
        "from torch.autograd import Variable\n",
        "from torchvision import datasets, models, transforms"
      ],
      "execution_count": 0,
      "outputs": []
    },
    {
      "metadata": {
        "id": "auWrtF3UtPuR",
        "colab_type": "code",
        "colab": {}
      },
      "cell_type": "code",
      "source": [
        "from google.colab import drive\n",
        "drive.mount('/content/gdrive')"
      ],
      "execution_count": 0,
      "outputs": []
    },
    {
      "metadata": {
        "id": "y5sh1HUte4Lu",
        "colab_type": "code",
        "colab": {}
      },
      "cell_type": "code",
      "source": [
        "!wget \"https://s3.amazonaws.com/content.udacity-data.com/courses/nd188/flower_data.zip\" "
      ],
      "execution_count": 0,
      "outputs": []
    },
    {
      "metadata": {
        "id": "zVHHtQWkgivH",
        "colab_type": "code",
        "colab": {}
      },
      "cell_type": "code",
      "source": [
        "!unzip \"flower_data.zip\""
      ],
      "execution_count": 0,
      "outputs": []
    },
    {
      "metadata": {
        "id": "60GksAS6aksZ",
        "colab_type": "code",
        "colab": {}
      },
      "cell_type": "code",
      "source": [
        "data_transforms = {\n",
        "    'train': transforms.Compose([\n",
        "        transforms.RandomRotation(45),\n",
        "        transforms.RandomResizedCrop(224),\n",
        "        transforms.RandomHorizontalFlip(),\n",
        "        transforms.ToTensor(),\n",
        "        transforms.Normalize([0.485, 0.456, 0.406], \n",
        "                             [0.229, 0.224, 0.225])\n",
        "    ]),\n",
        "    'valid': transforms.Compose([\n",
        "        transforms.Resize(256),\n",
        "        transforms.CenterCrop(224),\n",
        "        transforms.ToTensor(),\n",
        "        transforms.Normalize([0.485, 0.456, 0.406], \n",
        "                             [0.229, 0.224, 0.225])\n",
        "    ])\n",
        "}"
      ],
      "execution_count": 0,
      "outputs": []
    },
    {
      "metadata": {
        "id": "lLCoie7_lsUB",
        "colab_type": "code",
        "colab": {}
      },
      "cell_type": "code",
      "source": [
        "data_dir = \"/content/flower_data\""
      ],
      "execution_count": 0,
      "outputs": []
    },
    {
      "metadata": {
        "id": "vYzUXB0meott",
        "colab_type": "code",
        "outputId": "ed6d898b-0d41-431a-d705-9b5ad3dc227d",
        "colab": {
          "base_uri": "https://localhost:8080/",
          "height": 34
        }
      },
      "cell_type": "code",
      "source": [
        "cd flower_data"
      ],
      "execution_count": 0,
      "outputs": [
        {
          "output_type": "stream",
          "text": [
            "/content/flower_data\n"
          ],
          "name": "stdout"
        }
      ]
    },
    {
      "metadata": {
        "id": "k8zkAenOeNZ7",
        "colab_type": "code",
        "colab": {}
      },
      "cell_type": "code",
      "source": [
        "train_dir = 'train'\n",
        "valid_dir = 'valid'\n",
        "dirs = {'train': train_dir, \n",
        "        'valid': valid_dir}\n",
        "image_datasets = {x: datasets.ImageFolder(dirs[x],   transform=data_transforms[x]) for x in ['train', 'valid']}\n",
        "dataloaders = {x: torch.utils.data.DataLoader(image_datasets[x], batch_size=32, shuffle=True) for x in ['train', 'valid']}\n",
        "dataset_sizes = {x: len(image_datasets[x]) \n",
        "                              for x in ['train', 'valid']}\n",
        "class_names = image_datasets['train'].classes"
      ],
      "execution_count": 0,
      "outputs": []
    },
    {
      "metadata": {
        "id": "xaM7DSm0e7f8",
        "colab_type": "code",
        "colab": {}
      },
      "cell_type": "code",
      "source": [
        "model = models.vgg19(pretrained=True)"
      ],
      "execution_count": 0,
      "outputs": []
    },
    {
      "metadata": {
        "id": "IiaTUylrf2JG",
        "colab_type": "code",
        "outputId": "d831aa26-1c09-4e84-a3c7-92542b01645a",
        "colab": {
          "base_uri": "https://localhost:8080/",
          "height": 867
        }
      },
      "cell_type": "code",
      "source": [
        "model"
      ],
      "execution_count": 0,
      "outputs": [
        {
          "output_type": "execute_result",
          "data": {
            "text/plain": [
              "VGG(\n",
              "  (features): Sequential(\n",
              "    (0): Conv2d(3, 64, kernel_size=(3, 3), stride=(1, 1), padding=(1, 1))\n",
              "    (1): ReLU(inplace)\n",
              "    (2): Conv2d(64, 64, kernel_size=(3, 3), stride=(1, 1), padding=(1, 1))\n",
              "    (3): ReLU(inplace)\n",
              "    (4): MaxPool2d(kernel_size=2, stride=2, padding=0, dilation=1, ceil_mode=False)\n",
              "    (5): Conv2d(64, 128, kernel_size=(3, 3), stride=(1, 1), padding=(1, 1))\n",
              "    (6): ReLU(inplace)\n",
              "    (7): Conv2d(128, 128, kernel_size=(3, 3), stride=(1, 1), padding=(1, 1))\n",
              "    (8): ReLU(inplace)\n",
              "    (9): MaxPool2d(kernel_size=2, stride=2, padding=0, dilation=1, ceil_mode=False)\n",
              "    (10): Conv2d(128, 256, kernel_size=(3, 3), stride=(1, 1), padding=(1, 1))\n",
              "    (11): ReLU(inplace)\n",
              "    (12): Conv2d(256, 256, kernel_size=(3, 3), stride=(1, 1), padding=(1, 1))\n",
              "    (13): ReLU(inplace)\n",
              "    (14): Conv2d(256, 256, kernel_size=(3, 3), stride=(1, 1), padding=(1, 1))\n",
              "    (15): ReLU(inplace)\n",
              "    (16): Conv2d(256, 256, kernel_size=(3, 3), stride=(1, 1), padding=(1, 1))\n",
              "    (17): ReLU(inplace)\n",
              "    (18): MaxPool2d(kernel_size=2, stride=2, padding=0, dilation=1, ceil_mode=False)\n",
              "    (19): Conv2d(256, 512, kernel_size=(3, 3), stride=(1, 1), padding=(1, 1))\n",
              "    (20): ReLU(inplace)\n",
              "    (21): Conv2d(512, 512, kernel_size=(3, 3), stride=(1, 1), padding=(1, 1))\n",
              "    (22): ReLU(inplace)\n",
              "    (23): Conv2d(512, 512, kernel_size=(3, 3), stride=(1, 1), padding=(1, 1))\n",
              "    (24): ReLU(inplace)\n",
              "    (25): Conv2d(512, 512, kernel_size=(3, 3), stride=(1, 1), padding=(1, 1))\n",
              "    (26): ReLU(inplace)\n",
              "    (27): MaxPool2d(kernel_size=2, stride=2, padding=0, dilation=1, ceil_mode=False)\n",
              "    (28): Conv2d(512, 512, kernel_size=(3, 3), stride=(1, 1), padding=(1, 1))\n",
              "    (29): ReLU(inplace)\n",
              "    (30): Conv2d(512, 512, kernel_size=(3, 3), stride=(1, 1), padding=(1, 1))\n",
              "    (31): ReLU(inplace)\n",
              "    (32): Conv2d(512, 512, kernel_size=(3, 3), stride=(1, 1), padding=(1, 1))\n",
              "    (33): ReLU(inplace)\n",
              "    (34): Conv2d(512, 512, kernel_size=(3, 3), stride=(1, 1), padding=(1, 1))\n",
              "    (35): ReLU(inplace)\n",
              "    (36): MaxPool2d(kernel_size=2, stride=2, padding=0, dilation=1, ceil_mode=False)\n",
              "  )\n",
              "  (classifier): Sequential(\n",
              "    (0): Linear(in_features=25088, out_features=4096, bias=True)\n",
              "    (1): ReLU(inplace)\n",
              "    (2): Dropout(p=0.5)\n",
              "    (3): Linear(in_features=4096, out_features=4096, bias=True)\n",
              "    (4): ReLU(inplace)\n",
              "    (5): Dropout(p=0.5)\n",
              "    (6): Linear(in_features=4096, out_features=1000, bias=True)\n",
              "  )\n",
              ")"
            ]
          },
          "metadata": {
            "tags": []
          },
          "execution_count": 7
        }
      ]
    },
    {
      "metadata": {
        "id": "sXpKMXajfODZ",
        "colab_type": "text"
      },
      "cell_type": "markdown",
      "source": [
        "**Making our selected architecture consistent with given data by looking at the part of the architecture printed**"
      ]
    },
    {
      "metadata": {
        "id": "Jbi-qHkRfTdT",
        "colab_type": "code",
        "colab": {}
      },
      "cell_type": "code",
      "source": [
        "classifier = nn.Sequential(OrderedDict([\n",
        "                          ('fc1', nn.Linear(25088, 4096)),\n",
        "                          ('relu', nn.ReLU()),\n",
        "                          ('fc2', nn.Linear(4096, 102)),\n",
        "                          ('output', nn.LogSoftmax(dim=1))\n",
        "                          ]))"
      ],
      "execution_count": 0,
      "outputs": []
    },
    {
      "metadata": {
        "id": "TAcpsPtTfbBm",
        "colab_type": "text"
      },
      "cell_type": "markdown",
      "source": [
        "**Ensuring we dont update weights for our model**"
      ]
    },
    {
      "metadata": {
        "id": "iBiCU4DWwoHJ",
        "colab_type": "code",
        "colab": {}
      },
      "cell_type": "code",
      "source": [
        "for param in model.parameters():\n",
        "    param.requires_grad = False"
      ],
      "execution_count": 0,
      "outputs": []
    },
    {
      "metadata": {
        "id": "ihFUZbCT4slD",
        "colab_type": "code",
        "colab": {}
      },
      "cell_type": "code",
      "source": [
        "model.classifier = classifier"
      ],
      "execution_count": 0,
      "outputs": []
    },
    {
      "metadata": {
        "id": "KhVb0tCq4sXt",
        "colab_type": "code",
        "colab": {}
      },
      "cell_type": "code",
      "source": [
        "def train_model(model, criteria, optimizer, scheduler,    \n",
        "                                      num_epochs, device='cuda'):\n",
        "    since = time.time()\n",
        "\n",
        "    best_model_wts = copy.deepcopy(model.state_dict())\n",
        "    best_acc = 0.0\n",
        "\n",
        "    for epoch in range(num_epochs):\n",
        "        print('Epoch {}/{}'.format(epoch, num_epochs - 1))\n",
        "        print('-' * 10)\n",
        "\n",
        "        # Each epoch has a training and validation phase\n",
        "        for phase in ['train', 'valid']:\n",
        "            if phase == 'train':\n",
        "                scheduler.step()\n",
        "                model.train()  # Set model to training mode\n",
        "            else:\n",
        "                model.eval()   # Set model to evaluate mode\n",
        "\n",
        "            running_loss = 0.0\n",
        "            running_corrects = 0\n",
        "\n",
        "            # Iterate over data.\n",
        "            for inputs, labels in dataloaders[phase]:\n",
        "                inputs = inputs.to(device)\n",
        "                labels = labels.to(device)\n",
        "\n",
        "                # zero the parameter gradients\n",
        "                optimizer.zero_grad()\n",
        "\n",
        "                # forward\n",
        "                # track history if only in train\n",
        "                with torch.set_grad_enabled(phase == 'train'):\n",
        "                    outputs = model(inputs)\n",
        "                    _, preds = torch.max(outputs, 1)\n",
        "                    loss = criteria(outputs, labels)\n",
        "\n",
        "                    # backward + optimize only if in training phase\n",
        "                    if phase == 'train':\n",
        "                        loss.backward()\n",
        "                        optimizer.step()\n",
        "\n",
        "                # statistics\n",
        "                running_loss += loss.item() * inputs.size(0)\n",
        "                running_corrects += torch.sum(preds == labels.data)\n",
        "\n",
        "            epoch_loss = running_loss / dataset_sizes[phase]\n",
        "            epoch_acc = running_corrects.double() / dataset_sizes[phase]\n",
        "\n",
        "            print('{} Loss: {:.4f} Acc: {:.4f}'.format(\n",
        "                phase, epoch_loss, epoch_acc))\n",
        "\n",
        "            # deep copy the model\n",
        "            if phase == 'valid' and epoch_acc > best_acc:\n",
        "                best_acc = epoch_acc\n",
        "                best_model_wts = copy.deepcopy(model.state_dict())\n",
        "\n",
        "        print()\n",
        "\n",
        "    time_elapsed = time.time() - since\n",
        "    print('Training complete in {:.0f}m {:.0f}s'.format(\n",
        "        time_elapsed // 60, time_elapsed % 60))\n",
        "    print('Best val Acc: {:4f}'.format(best_acc))\n",
        "\n",
        "    # load best model weights\n",
        "    model.load_state_dict(best_model_wts)\n",
        "    return model"
      ],
      "execution_count": 0,
      "outputs": []
    },
    {
      "metadata": {
        "id": "2pxPOawemb08",
        "colab_type": "code",
        "colab": {}
      },
      "cell_type": "code",
      "source": [
        "model.cuda()"
      ],
      "execution_count": 0,
      "outputs": []
    },
    {
      "metadata": {
        "id": "8snPMQVUxThj",
        "colab_type": "code",
        "colab": {}
      },
      "cell_type": "code",
      "source": [
        "import torch.optim as optim\n",
        "\n",
        "# Criteria NLLLoss which is recommended with Softmax final layer\n",
        "criteria = nn.CrossEntropyLoss()\n",
        "# Observe that all parameters are being optimized\n",
        "optimizer1 = optim.Adam(model.classifier.parameters(), lr=0.001)\n",
        "# Decay LR by a factor of 0.1 every 4 epochs\n",
        "sched = lr_scheduler.StepLR(optimizer1, step_size=4, gamma=0.1)\n",
        "# Number of epochs\n",
        "eps=10"
      ],
      "execution_count": 0,
      "outputs": []
    },
    {
      "metadata": {
        "id": "-GgOSppnXF_0",
        "colab_type": "text"
      },
      "cell_type": "markdown",
      "source": [
        "**10 epochs**"
      ]
    },
    {
      "metadata": {
        "id": "TZWNgXIQdIL8",
        "colab_type": "code",
        "outputId": "b78ce26e-8083-441a-9e8d-381d189e4f4c",
        "colab": {
          "base_uri": "https://localhost:8080/",
          "height": 901
        }
      },
      "cell_type": "code",
      "source": [
        "model_ft = train_model(model, criteria, optimizer1, sched, eps, 'cuda')"
      ],
      "execution_count": 0,
      "outputs": [
        {
          "output_type": "stream",
          "text": [
            "Epoch 0/9\n",
            "----------\n",
            "train Loss: 2.3860 Acc: 0.4730\n",
            "valid Loss: 0.8379 Acc: 0.7628\n",
            "\n",
            "Epoch 1/9\n",
            "----------\n",
            "train Loss: 1.1422 Acc: 0.6815\n",
            "valid Loss: 0.7204 Acc: 0.7910\n",
            "\n",
            "Epoch 2/9\n",
            "----------\n",
            "train Loss: 0.9667 Acc: 0.7378\n",
            "valid Loss: 0.6810 Acc: 0.8191\n",
            "\n",
            "Epoch 3/9\n",
            "----------\n",
            "train Loss: 0.6831 Acc: 0.8112\n",
            "valid Loss: 0.4402 Acc: 0.8814\n",
            "\n",
            "Epoch 4/9\n",
            "----------\n",
            "train Loss: 0.5744 Acc: 0.8373\n",
            "valid Loss: 0.3991 Acc: 0.8973\n",
            "\n",
            "Epoch 5/9\n",
            "----------\n",
            "train Loss: 0.5604 Acc: 0.8443\n",
            "valid Loss: 0.3885 Acc: 0.8961\n",
            "\n",
            "Epoch 6/9\n",
            "----------\n",
            "train Loss: 0.5131 Acc: 0.8568\n",
            "valid Loss: 0.3905 Acc: 0.8924\n",
            "\n",
            "Epoch 7/9\n",
            "----------\n",
            "train Loss: 0.4989 Acc: 0.8622\n",
            "valid Loss: 0.3796 Acc: 0.8924\n",
            "\n",
            "Epoch 8/9\n",
            "----------\n",
            "train Loss: 0.4997 Acc: 0.8591\n",
            "valid Loss: 0.3702 Acc: 0.8998\n",
            "\n",
            "Epoch 9/9\n",
            "----------\n",
            "train Loss: 0.4886 Acc: 0.8655\n",
            "valid Loss: 0.3701 Acc: 0.8985\n",
            "\n",
            "Training complete in 38m 4s\n",
            "Best val Acc: 0.899756\n"
          ],
          "name": "stdout"
        }
      ]
    },
    {
      "metadata": {
        "id": "a8tSSvirXToJ",
        "colab_type": "text"
      },
      "cell_type": "markdown",
      "source": [
        "**5 +5 epochs**"
      ]
    },
    {
      "metadata": {
        "id": "I9g0SGghR9A7",
        "colab_type": "code",
        "outputId": "df7c891d-b200-42b8-ccbd-8572f84c6070",
        "colab": {
          "base_uri": "https://localhost:8080/",
          "height": 476
        }
      },
      "cell_type": "code",
      "source": [
        "model_ft = train_model(model, criteria, optim, sched, eps, 'cuda')"
      ],
      "execution_count": 0,
      "outputs": [
        {
          "output_type": "stream",
          "text": [
            "Epoch 0/4\n",
            "----------\n",
            "train Loss: 2.5754 Acc: 0.4588\n",
            "valid Loss: 0.8900 Acc: 0.7579\n",
            "\n",
            "Epoch 1/4\n",
            "----------\n",
            "train Loss: 1.1595 Acc: 0.6841\n",
            "valid Loss: 0.7107 Acc: 0.8056\n",
            "\n",
            "Epoch 2/4\n",
            "----------\n",
            "train Loss: 0.9255 Acc: 0.7428\n",
            "valid Loss: 0.5939 Acc: 0.8472\n",
            "\n",
            "Epoch 3/4\n",
            "----------\n",
            "train Loss: 0.8626 Acc: 0.7639\n",
            "valid Loss: 0.6637 Acc: 0.8374\n",
            "\n",
            "Epoch 4/4\n",
            "----------\n",
            "train Loss: 0.8000 Acc: 0.7779\n",
            "valid Loss: 0.5750 Acc: 0.8411\n",
            "\n",
            "Training complete in 19m 49s\n",
            "Best val Acc: 0.847188\n"
          ],
          "name": "stdout"
        }
      ]
    },
    {
      "metadata": {
        "id": "hj3mY0qQEMvT",
        "colab_type": "text"
      },
      "cell_type": "markdown",
      "source": [
        "**Saving model - 5epochs** "
      ]
    },
    {
      "metadata": {
        "id": "ITt6rJWTLG7v",
        "colab_type": "code",
        "colab": {}
      },
      "cell_type": "code",
      "source": [
        "model.class_to_idx = image_datasets['train'].class_to_idx\n",
        "model.cpu()\n",
        "torch.save({'arch': 'vgg19',\n",
        "            'state_dict': model.state_dict(), \n",
        "            'class_to_idx': model.class_to_idx}, \n",
        "            'classifier.pth')\n"
      ],
      "execution_count": 0,
      "outputs": []
    },
    {
      "metadata": {
        "id": "_ZxOeCxg4ZuL",
        "colab_type": "code",
        "colab": {}
      },
      "cell_type": "code",
      "source": [
        "def calc_accuracy(model, data, cuda=False):\n",
        "    model.eval()\n",
        "    model.to(device='cuda')    \n",
        "    \n",
        "    with torch.no_grad():\n",
        "        for idx, (inputs, labels) in enumerate(dataloaders[data]):\n",
        "            if cuda:\n",
        "                inputs, labels = inputs.cuda(), labels.cuda()\n",
        "            # obtain the outputs from the model\n",
        "            outputs = model.forward(inputs)\n",
        "            # max provides the (maximum probability, max value)\n",
        "            _, predicted = outputs.max(dim=1)\n",
        "            # check the \n",
        "            if idx == 0:\n",
        "                print(predicted) #the predicted class\n",
        "                print(torch.exp(_)) # the predicted probability\n",
        "            equals = predicted == labels.data\n",
        "            if idx == 0:\n",
        "                print(equals)\n",
        "            print(equals.float().mean())"
      ],
      "execution_count": 0,
      "outputs": []
    },
    {
      "metadata": {
        "id": "n9jUY-r5ESqM",
        "colab_type": "text"
      },
      "cell_type": "markdown",
      "source": [
        "**Checking accuracy**"
      ]
    },
    {
      "metadata": {
        "id": "Lncmglga4bwf",
        "colab_type": "code",
        "outputId": "359e701d-c0d0-4862-aea6-c9fea20ced4f",
        "colab": {
          "base_uri": "https://localhost:8080/",
          "height": 612
        }
      },
      "cell_type": "code",
      "source": [
        "calc_accuracy(model,'valid',True)"
      ],
      "execution_count": 0,
      "outputs": [
        {
          "output_type": "stream",
          "text": [
            "tensor([ 94,  77,  48, 100,   2,  14,  41,  45,  76,  67,  19,  48,  40,  77,\n",
            "          0,  45,  72,  82,  49,  53,  56,  35,  49,  73,  61,  49,  59,  66,\n",
            "         70,  77,  76,  19], device='cuda:0')\n",
            "tensor([0.9997, 1.0000, 0.9814, 0.8381, 0.6187, 1.0000, 0.6639, 0.9277, 0.4184,\n",
            "        1.0000, 0.8104, 0.9691, 0.9822, 0.9999, 0.8130, 0.9539, 0.7750, 0.9999,\n",
            "        0.6759, 0.9990, 0.9978, 0.6216, 0.9555, 0.8973, 0.9999, 0.9994, 0.9888,\n",
            "        0.9126, 0.9967, 1.0000, 0.9998, 0.8765], device='cuda:0')\n",
            "tensor([1, 1, 1, 1, 0, 1, 1, 1, 0, 1, 1, 1, 1, 1, 1, 1, 1, 1, 1, 1, 1, 1, 1, 1,\n",
            "        1, 1, 1, 1, 1, 1, 1, 1], device='cuda:0', dtype=torch.uint8)\n",
            "tensor(0.9375, device='cuda:0')\n",
            "tensor(0.7812, device='cuda:0')\n",
            "tensor(0.7188, device='cuda:0')\n",
            "tensor(0.9062, device='cuda:0')\n",
            "tensor(0.7812, device='cuda:0')\n",
            "tensor(0.8438, device='cuda:0')\n",
            "tensor(0.6875, device='cuda:0')\n",
            "tensor(0.7812, device='cuda:0')\n",
            "tensor(0.8125, device='cuda:0')\n",
            "tensor(0.9062, device='cuda:0')\n",
            "tensor(0.8750, device='cuda:0')\n",
            "tensor(0.9062, device='cuda:0')\n",
            "tensor(0.9062, device='cuda:0')\n",
            "tensor(0.8438, device='cuda:0')\n",
            "tensor(0.8438, device='cuda:0')\n",
            "tensor(0.8750, device='cuda:0')\n",
            "tensor(0.8750, device='cuda:0')\n",
            "tensor(0.8438, device='cuda:0')\n",
            "tensor(0.8438, device='cuda:0')\n",
            "tensor(0.8125, device='cuda:0')\n",
            "tensor(0.8125, device='cuda:0')\n",
            "tensor(0.8750, device='cuda:0')\n",
            "tensor(0.8750, device='cuda:0')\n",
            "tensor(0.9688, device='cuda:0')\n",
            "tensor(0.8125, device='cuda:0')\n",
            "tensor(0.9444, device='cuda:0')\n"
          ],
          "name": "stdout"
        }
      ]
    },
    {
      "metadata": {
        "id": "aYBi6J-9EuCw",
        "colab_type": "text"
      },
      "cell_type": "markdown",
      "source": [
        "**loading model**"
      ]
    },
    {
      "metadata": {
        "id": "-MucQVuotN_Y",
        "colab_type": "code",
        "outputId": "c20cc21a-9c55-4b5d-c91e-ba9bac8ebb0d",
        "colab": {
          "base_uri": "https://localhost:8080/",
          "height": 612
        }
      },
      "cell_type": "code",
      "source": [
        "model = load_model('classifier.pth')\n",
        "calc_accuracy(model, 'valid', True)\n",
        "\n"
      ],
      "execution_count": 0,
      "outputs": [
        {
          "output_type": "stream",
          "text": [
            "tensor([ 32,   1,  77,   5,  91,  54,  57,   0,  84,  33,  40,  73,  14,  24,\n",
            "         71,  74,  75,   5,  91, 100,  96,  82,   9,  89,  90,  89,  55,  78,\n",
            "         48,  90,  55,  59], device='cuda:0')\n",
            "tensor([0.5693, 0.9999, 1.0000, 0.8904, 0.9893, 1.0000, 0.9911, 0.9889, 0.9868,\n",
            "        0.9816, 0.4665, 0.9317, 1.0000, 1.0000, 1.0000, 0.8170, 0.9997, 0.7088,\n",
            "        0.7182, 0.8381, 0.9972, 0.9993, 0.9006, 0.9998, 0.9990, 0.9999, 0.9959,\n",
            "        0.9983, 0.9950, 0.7380, 0.8078, 0.9995], device='cuda:0')\n",
            "tensor([1, 1, 1, 1, 1, 1, 1, 1, 1, 1, 1, 0, 1, 1, 1, 1, 1, 0, 1, 1, 1, 1, 1, 1,\n",
            "        1, 1, 1, 1, 1, 0, 1, 1], device='cuda:0', dtype=torch.uint8)\n",
            "tensor(0.9062, device='cuda:0')\n",
            "tensor(0.9062, device='cuda:0')\n",
            "tensor(0.8750, device='cuda:0')\n",
            "tensor(0.9688, device='cuda:0')\n",
            "tensor(0.8750, device='cuda:0')\n",
            "tensor(0.7188, device='cuda:0')\n",
            "tensor(0.7812, device='cuda:0')\n",
            "tensor(0.7812, device='cuda:0')\n",
            "tensor(0.8438, device='cuda:0')\n",
            "tensor(0.9375, device='cuda:0')\n",
            "tensor(0.8125, device='cuda:0')\n",
            "tensor(0.7500, device='cuda:0')\n",
            "tensor(0.8438, device='cuda:0')\n",
            "tensor(0.7812, device='cuda:0')\n",
            "tensor(0.8750, device='cuda:0')\n",
            "tensor(0.9688, device='cuda:0')\n",
            "tensor(0.8750, device='cuda:0')\n",
            "tensor(0.7812, device='cuda:0')\n",
            "tensor(0.8438, device='cuda:0')\n",
            "tensor(0.8125, device='cuda:0')\n",
            "tensor(0.8125, device='cuda:0')\n",
            "tensor(0.8750, device='cuda:0')\n",
            "tensor(0.8750, device='cuda:0')\n",
            "tensor(0.8438, device='cuda:0')\n",
            "tensor(0.8438, device='cuda:0')\n",
            "tensor(0.8333, device='cuda:0')\n"
          ],
          "name": "stdout"
        }
      ]
    },
    {
      "metadata": {
        "id": "FNxlKsdqEzOs",
        "colab_type": "text"
      },
      "cell_type": "markdown",
      "source": [
        "**Running next 5 epochs**"
      ]
    },
    {
      "metadata": {
        "id": "pPrScvuatePQ",
        "colab_type": "code",
        "outputId": "c4c04ab3-1537-4f7d-884c-a0522109f0d1",
        "colab": {
          "base_uri": "https://localhost:8080/",
          "height": 476
        }
      },
      "cell_type": "code",
      "source": [
        "model_ft = train_model(model, criteria, optim, sched, eps, 'cuda')"
      ],
      "execution_count": 0,
      "outputs": [
        {
          "output_type": "stream",
          "text": [
            "Epoch 0/4\n",
            "----------\n",
            "train Loss: 0.7720 Acc: 0.7821\n",
            "valid Loss: 0.5939 Acc: 0.8472\n",
            "\n",
            "Epoch 1/4\n",
            "----------\n",
            "train Loss: 0.7821 Acc: 0.7842\n",
            "valid Loss: 0.5939 Acc: 0.8472\n",
            "\n",
            "Epoch 2/4\n",
            "----------\n",
            "train Loss: 0.7628 Acc: 0.7885\n",
            "valid Loss: 0.5939 Acc: 0.8472\n",
            "\n",
            "Epoch 3/4\n",
            "----------\n",
            "train Loss: 0.7816 Acc: 0.7836\n",
            "valid Loss: 0.5939 Acc: 0.8472\n",
            "\n",
            "Epoch 4/4\n",
            "----------\n",
            "train Loss: 0.7662 Acc: 0.7804\n",
            "valid Loss: 0.5939 Acc: 0.8472\n",
            "\n",
            "Training complete in 19m 50s\n",
            "Best val Acc: 0.847188\n"
          ],
          "name": "stdout"
        }
      ]
    },
    {
      "metadata": {
        "id": "ax5stYLeE4-F",
        "colab_type": "text"
      },
      "cell_type": "markdown",
      "source": [
        "**Saving weights after 10 epochs**"
      ]
    },
    {
      "metadata": {
        "id": "pTnuP6DrlE6T",
        "colab_type": "code",
        "colab": {}
      },
      "cell_type": "code",
      "source": [
        "model.class_to_idx = image_datasets['train'].class_to_idx\n",
        "model.cpu()\n",
        "torch.save({'arch': 'vgg19',\n",
        "            'state_dict': model.state_dict(), \n",
        "            'class_to_idx': model.class_to_idx}, \n",
        "            'classifier2.pth')"
      ],
      "execution_count": 0,
      "outputs": []
    },
    {
      "metadata": {
        "id": "tE26Uqf9XYbV",
        "colab_type": "text"
      },
      "cell_type": "markdown",
      "source": [
        "There was a significant difference by running model for 10 epochs and then for 5 + 5 epochs . "
      ]
    },
    {
      "metadata": {
        "id": "J6RUFBKjRXTc",
        "colab_type": "code",
        "colab": {}
      },
      "cell_type": "code",
      "source": [
        ""
      ],
      "execution_count": 0,
      "outputs": []
    },
    {
      "metadata": {
        "id": "0CoE0FQdTVxb",
        "colab_type": "code",
        "colab": {}
      },
      "cell_type": "code",
      "source": [
        "\n"
      ],
      "execution_count": 0,
      "outputs": []
    },
    {
      "metadata": {
        "id": "D9nAT_EEoeBp",
        "colab_type": "code",
        "colab": {}
      },
      "cell_type": "code",
      "source": [
        "\n",
        "    "
      ],
      "execution_count": 0,
      "outputs": []
    },
    {
      "metadata": {
        "id": "dNf4GUmPhZWB",
        "colab_type": "code",
        "colab": {}
      },
      "cell_type": "code",
      "source": [
        ""
      ],
      "execution_count": 0,
      "outputs": []
    },
    {
      "metadata": {
        "id": "EEVDhyY7ohaK",
        "colab_type": "code",
        "colab": {}
      },
      "cell_type": "code",
      "source": [
        ""
      ],
      "execution_count": 0,
      "outputs": []
    },
    {
      "metadata": {
        "id": "n7XGgQ6HohOh",
        "colab_type": "code",
        "colab": {}
      },
      "cell_type": "code",
      "source": [
        ""
      ],
      "execution_count": 0,
      "outputs": []
    },
    {
      "metadata": {
        "id": "V64hr4CXlE3e",
        "colab_type": "code",
        "colab": {}
      },
      "cell_type": "code",
      "source": [
        ""
      ],
      "execution_count": 0,
      "outputs": []
    },
    {
      "metadata": {
        "id": "HoDWBsgklE1i",
        "colab_type": "code",
        "colab": {}
      },
      "cell_type": "code",
      "source": [
        ""
      ],
      "execution_count": 0,
      "outputs": []
    },
    {
      "metadata": {
        "id": "scMPsnoilEzW",
        "colab_type": "code",
        "colab": {}
      },
      "cell_type": "code",
      "source": [
        ""
      ],
      "execution_count": 0,
      "outputs": []
    },
    {
      "metadata": {
        "id": "Ia2k5pMMlEwt",
        "colab_type": "code",
        "colab": {}
      },
      "cell_type": "code",
      "source": [
        ""
      ],
      "execution_count": 0,
      "outputs": []
    },
    {
      "metadata": {
        "id": "yyexSS26lEt5",
        "colab_type": "code",
        "colab": {}
      },
      "cell_type": "code",
      "source": [
        ""
      ],
      "execution_count": 0,
      "outputs": []
    },
    {
      "metadata": {
        "id": "YV32LTOXlEoI",
        "colab_type": "code",
        "colab": {}
      },
      "cell_type": "code",
      "source": [
        ""
      ],
      "execution_count": 0,
      "outputs": []
    },
    {
      "metadata": {
        "id": "fw1R_s3NtvL-",
        "colab_type": "code",
        "colab": {}
      },
      "cell_type": "code",
      "source": [
        ""
      ],
      "execution_count": 0,
      "outputs": []
    },
    {
      "metadata": {
        "id": "E1YGjudRdsfb",
        "colab_type": "code",
        "colab": {}
      },
      "cell_type": "code",
      "source": [
        ""
      ],
      "execution_count": 0,
      "outputs": []
    },
    {
      "metadata": {
        "id": "UK_iobqOt0Ii",
        "colab_type": "code",
        "colab": {}
      },
      "cell_type": "code",
      "source": [
        ""
      ],
      "execution_count": 0,
      "outputs": []
    },
    {
      "metadata": {
        "id": "zgwISSnIdtNL",
        "colab_type": "code",
        "colab": {}
      },
      "cell_type": "code",
      "source": [
        ""
      ],
      "execution_count": 0,
      "outputs": []
    },
    {
      "metadata": {
        "id": "E34u1Qu6t3dB",
        "colab_type": "code",
        "colab": {}
      },
      "cell_type": "code",
      "source": [
        ""
      ],
      "execution_count": 0,
      "outputs": []
    },
    {
      "metadata": {
        "id": "D9NML4jGhgS5",
        "colab_type": "code",
        "colab": {}
      },
      "cell_type": "code",
      "source": [
        ""
      ],
      "execution_count": 0,
      "outputs": []
    },
    {
      "metadata": {
        "id": "KglGX5HIhgQa",
        "colab_type": "code",
        "colab": {}
      },
      "cell_type": "code",
      "source": [
        ""
      ],
      "execution_count": 0,
      "outputs": []
    },
    {
      "metadata": {
        "id": "_4v9aNWzhgOV",
        "colab_type": "code",
        "colab": {}
      },
      "cell_type": "code",
      "source": [
        ""
      ],
      "execution_count": 0,
      "outputs": []
    },
    {
      "metadata": {
        "id": "UOyH4iJ8hgJw",
        "colab_type": "code",
        "colab": {}
      },
      "cell_type": "code",
      "source": [
        ""
      ],
      "execution_count": 0,
      "outputs": []
    },
    {
      "metadata": {
        "id": "M8j37uB0hgG7",
        "colab_type": "code",
        "colab": {}
      },
      "cell_type": "code",
      "source": [
        ""
      ],
      "execution_count": 0,
      "outputs": []
    },
    {
      "metadata": {
        "id": "JON-Ky6YfTAc",
        "colab_type": "code",
        "colab": {}
      },
      "cell_type": "code",
      "source": [
        ""
      ],
      "execution_count": 0,
      "outputs": []
    },
    {
      "metadata": {
        "id": "yWXLSilhHFq2",
        "colab_type": "code",
        "colab": {}
      },
      "cell_type": "code",
      "source": [
        ""
      ],
      "execution_count": 0,
      "outputs": []
    },
    {
      "metadata": {
        "id": "2tMsZPe0HFpZ",
        "colab_type": "code",
        "colab": {}
      },
      "cell_type": "code",
      "source": [
        ""
      ],
      "execution_count": 0,
      "outputs": []
    },
    {
      "metadata": {
        "id": "4XBb8r_tHFn2",
        "colab_type": "code",
        "colab": {}
      },
      "cell_type": "code",
      "source": [
        ""
      ],
      "execution_count": 0,
      "outputs": []
    },
    {
      "metadata": {
        "id": "UMPh37onHFmS",
        "colab_type": "code",
        "colab": {}
      },
      "cell_type": "code",
      "source": [
        ""
      ],
      "execution_count": 0,
      "outputs": []
    },
    {
      "metadata": {
        "id": "SLth9KrOHFky",
        "colab_type": "code",
        "colab": {}
      },
      "cell_type": "code",
      "source": [
        ""
      ],
      "execution_count": 0,
      "outputs": []
    },
    {
      "metadata": {
        "id": "ddfrgGDfHFjP",
        "colab_type": "code",
        "colab": {}
      },
      "cell_type": "code",
      "source": [
        ""
      ],
      "execution_count": 0,
      "outputs": []
    },
    {
      "metadata": {
        "id": "Kose6ZpeHFf_",
        "colab_type": "code",
        "colab": {}
      },
      "cell_type": "code",
      "source": [
        ""
      ],
      "execution_count": 0,
      "outputs": []
    },
    {
      "metadata": {
        "id": "LX-gYWnYHFcA",
        "colab_type": "code",
        "colab": {}
      },
      "cell_type": "code",
      "source": [
        ""
      ],
      "execution_count": 0,
      "outputs": []
    },
    {
      "metadata": {
        "id": "PWr0pJUlHFZP",
        "colab_type": "code",
        "colab": {}
      },
      "cell_type": "code",
      "source": [
        ""
      ],
      "execution_count": 0,
      "outputs": []
    },
    {
      "metadata": {
        "id": "ZATjepX6HFT-",
        "colab_type": "code",
        "colab": {}
      },
      "cell_type": "code",
      "source": [
        ""
      ],
      "execution_count": 0,
      "outputs": []
    },
    {
      "metadata": {
        "id": "QsjTEcYHHFOw",
        "colab_type": "code",
        "colab": {}
      },
      "cell_type": "code",
      "source": [
        ""
      ],
      "execution_count": 0,
      "outputs": []
    },
    {
      "metadata": {
        "id": "7x0TINE_uA17",
        "colab_type": "code",
        "colab": {}
      },
      "cell_type": "code",
      "source": [
        "\n",
        "                \n",
        " "
      ],
      "execution_count": 0,
      "outputs": []
    },
    {
      "metadata": {
        "id": "hFGm1hMGuHXm",
        "colab_type": "code",
        "colab": {}
      },
      "cell_type": "code",
      "source": [
        ""
      ],
      "execution_count": 0,
      "outputs": []
    },
    {
      "metadata": {
        "id": "n2EB5rZ5yTn9",
        "colab_type": "code",
        "colab": {}
      },
      "cell_type": "code",
      "source": [
        ""
      ],
      "execution_count": 0,
      "outputs": []
    },
    {
      "metadata": {
        "id": "Qj6z8D-AyUa5",
        "colab_type": "code",
        "colab": {}
      },
      "cell_type": "code",
      "source": [
        ""
      ],
      "execution_count": 0,
      "outputs": []
    }
  ]
}