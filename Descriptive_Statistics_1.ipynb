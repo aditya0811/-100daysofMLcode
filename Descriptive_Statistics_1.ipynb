{
  "nbformat": 4,
  "nbformat_minor": 0,
  "metadata": {
    "colab": {
      "name": "Descriptive Statistics 1.ipynb",
      "version": "0.3.2",
      "provenance": [],
      "include_colab_link": true
    },
    "kernelspec": {
      "display_name": "Python 3",
      "language": "python",
      "name": "python3"
    }
  },
  "cells": [
    {
      "cell_type": "markdown",
      "metadata": {
        "id": "view-in-github",
        "colab_type": "text"
      },
      "source": [
        "<a href=\"https://colab.research.google.com/github/aditya0811/-100daysofMLcode/blob/master/Descriptive_Statistics_1.ipynb\" target=\"_parent\"><img src=\"https://colab.research.google.com/assets/colab-badge.svg\" alt=\"Open In Colab\"/></a>"
      ]
    },
    {
      "metadata": {
        "id": "yZ3aFVRRexhA",
        "colab_type": "text"
      },
      "cell_type": "markdown",
      "source": [
        "#### Categorical Variables-Cannot be added like zip code -Nominal and Ordinal data(Values are in order -good ,medium, bad)\n",
        "\n",
        "#### Quantitative variables- Can be added like temperature-Continuous and discrete"
      ]
    },
    {
      "metadata": {
        "id": "Y1mEvUd-exhE",
        "colab_type": "text"
      },
      "cell_type": "markdown",
      "source": [
        "### Measures of Centre"
      ]
    },
    {
      "metadata": {
        "id": "5pV1eWYXexhG",
        "colab_type": "text"
      },
      "cell_type": "markdown",
      "source": [
        "Mode-Highest value,no mode if there are two highest values"
      ]
    },
    {
      "metadata": {
        "id": "NLgs9jCYexhJ",
        "colab_type": "text"
      },
      "cell_type": "markdown",
      "source": [
        "Median-It is the value where 50% of your data is greator than median"
      ]
    },
    {
      "metadata": {
        "id": "tScV3eKFexhM",
        "colab_type": "text"
      },
      "cell_type": "markdown",
      "source": [
        "Mean-Sum of Values/no of observations"
      ]
    },
    {
      "metadata": {
        "id": "7oxCxalxexhP",
        "colab_type": "text"
      },
      "cell_type": "markdown",
      "source": [
        "### Measure of Spread\n"
      ]
    },
    {
      "metadata": {
        "id": "yIAZ_XZnexhS",
        "colab_type": "text"
      },
      "cell_type": "markdown",
      "source": [
        "Box plot are used for measuring spread.It contains IQR as box (Interquantile range).Same info as data.info() \n",
        "\n"
      ]
    },
    {
      "metadata": {
        "collapsed": true,
        "id": "eI-FMbNgexhU",
        "colab_type": "text"
      },
      "cell_type": "markdown",
      "source": [
        "#### 5 Number Summary \n",
        "\n",
        "Mostly for Unsymmetrical Data\n",
        "\n",
        "We have seen how to calculate the values associated with the five number summary (min, Q_1Q , Q_2Q, Q_3Q,max) as well as the measures of spread associated with these values (range and IQR)."
      ]
    },
    {
      "metadata": {
        "id": "pcLcMrOQexhX",
        "colab_type": "text"
      },
      "cell_type": "markdown",
      "source": [
        "#### Variance and Standard Deviation\n",
        "\n",
        "The variance is the average squared difference of each observation from the mean."
      ]
    },
    {
      "metadata": {
        "id": "0U_UWQk8exhZ",
        "colab_type": "text"
      },
      "cell_type": "markdown",
      "source": [
        "#### Simpson paradox\n"
      ]
    },
    {
      "metadata": {
        "id": "KWIpdZm0exhb",
        "colab_type": "text"
      },
      "cell_type": "markdown",
      "source": [
        "Regrouping can bring changes to result.\n",
        "\n",
        "Check Jupyter Noteboook\n",
        "\n",
        "Here we came to know about Simpson Paradox \n",
        "1)Overall males are favoured in admission process,but taking individual majors say Physics and Chemistry ,females are favoured in both.\n",
        "\n",
        "Males have more majors in Physics,females in Chemistry, Physics have more admission rate as males have more admission rate overall!"
      ]
    },
    {
      "metadata": {
        "id": "lRQfC-Twexhe",
        "colab_type": "text"
      },
      "cell_type": "markdown",
      "source": [
        "### Binomial Distribution"
      ]
    },
    {
      "metadata": {
        "id": "0E2v33Qsexhg",
        "colab_type": "text"
      },
      "cell_type": "markdown",
      "source": [
        "The Binomial Distribution helps us determine the probability of a string of independent 'coin flip like events'.\n",
        "\n",
        "The probability mass function associated with the binomial distribution is of the following form:\n",
        "\n",
        "P(X = x) = \\frac{n!}{x!(n-x)!}p^x(1-p)^{n-x}P(X=x)= \n",
        "x!(n−x)!\n",
        "n!\n",
        "​\t p \n",
        "x\n",
        " (1−p) \n",
        "n−x\n",
        " \n",
        "\n",
        "where n is the number of events, x is the number of \"successes\", and p is the probability of \"success\".\n",
        "\n",
        "We can now use this distribution to determine the probability of things like:\n",
        "\n",
        "The probability of 3 heads occurring in 10 flips.\n",
        "The probability of observing 8 or more heads occurring in 10 flips.\n",
        "The probability of not observing any heads in 20 flips."
      ]
    },
    {
      "metadata": {
        "id": "hS3l7cNFexhj",
        "colab_type": "text"
      },
      "cell_type": "markdown",
      "source": [
        "### A/B Testing"
      ]
    },
    {
      "metadata": {
        "id": "jFx_gTWOexhl",
        "colab_type": "text"
      },
      "cell_type": "markdown",
      "source": [
        "It is kind of hypothesis testing , can be used to check whether customer will be happy or not with small changes or even major changes like version of the product or not.\n",
        "\n",
        "We decide results using these hypothesis\n",
        "Here the NULL HYPOTHESIS suggests that how much experiment does equally or worse than control.\n",
        "ALTERNATIVE-Experiment does equally or better than the control.\n",
        "\n",
        "\n",
        "Here two groups are present\n",
        "CONTROL-Shown old version\n",
        "EXPERIMENT- shown new version\n",
        "\n",
        "Remember it can tell us about which product the customers will prefer but will not tell us whether the overall effect for listing both products will be good or not .\n",
        "\n",
        "DISADVANTAGES OF A/B TESTING\n",
        "CHANGE AVERSION-When existing user doesn't like new version.\n",
        "NOVELTY EFFECT- When existing user are attracted to the new version"
      ]
    },
    {
      "metadata": {
        "id": "OfkvUq2qexhn",
        "colab_type": "text"
      },
      "cell_type": "markdown",
      "source": [
        "# EDA\n"
      ]
    },
    {
      "metadata": {
        "id": "LSWqJMYKexhq",
        "colab_type": "text"
      },
      "cell_type": "markdown",
      "source": [
        "Helps understand data variables individually (Univariate),correlations between variables(Multivariate),which variables will be important for a data set and how to use them in predictive modelling.\n",
        "\n",
        "Here we talk about graph you are using ,about the resources you used.\n",
        "Have a summary and visualisation through the data you produce.\n",
        "Be skeptical about the data."
      ]
    },
    {
      "metadata": {
        "id": "T_1GWvkDexhs",
        "colab_type": "text"
      },
      "cell_type": "markdown",
      "source": [
        "# OUTLIERS"
      ]
    },
    {
      "metadata": {
        "id": "ammbj-GAexhw",
        "colab_type": "text"
      },
      "cell_type": "markdown",
      "source": [
        "They can be extreme cases of our data which cannot be ignored ,they can be instances which may be an error in our data."
      ]
    }
  ]
}