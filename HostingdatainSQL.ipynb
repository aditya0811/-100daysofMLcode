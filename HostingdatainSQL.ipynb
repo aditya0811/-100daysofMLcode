{
  "nbformat": 4,
  "nbformat_minor": 0,
  "metadata": {
    "colab": {
      "name": "HostingdatainSQL.ipynb",
      "version": "0.3.2",
      "provenance": [],
      "include_colab_link": true
    },
    "kernelspec": {
      "name": "python3",
      "display_name": "Python 3"
    }
  },
  "cells": [
    {
      "cell_type": "markdown",
      "metadata": {
        "id": "view-in-github",
        "colab_type": "text"
      },
      "source": [
        "<a href=\"https://colab.research.google.com/github/aditya0811/-100daysofMLcode/blob/master/HostingdatainSQL.ipynb\" target=\"_parent\"><img src=\"https://colab.research.google.com/assets/colab-badge.svg\" alt=\"Open In Colab\"/></a>"
      ]
    },
    {
      "metadata": {
        "id": "l0oSkdIHZkOF",
        "colab_type": "text"
      },
      "cell_type": "markdown",
      "source": [
        "Remember to host data in SQL using pandas we need to first convert every entry in a column to a same data type ."
      ]
    },
    {
      "metadata": {
        "id": "nZT2Q6ILXSSv",
        "colab_type": "code",
        "colab": {}
      },
      "cell_type": "code",
      "source": [
        "import pandas as pd"
      ],
      "execution_count": 0,
      "outputs": []
    },
    {
      "metadata": {
        "id": "uOX-V5ieYVDB",
        "colab_type": "code",
        "colab": {
          "base_uri": "https://localhost:8080/",
          "height": 34
        },
        "outputId": "7eed67d3-9f4c-489e-c5a4-f65f39aaa865"
      },
      "cell_type": "code",
      "source": [
        "cd .."
      ],
      "execution_count": 9,
      "outputs": [
        {
          "output_type": "stream",
          "text": [
            "/content\n"
          ],
          "name": "stdout"
        }
      ]
    },
    {
      "metadata": {
        "id": "l9gqfK7XXjV3",
        "colab_type": "code",
        "colab": {
          "base_uri": "https://localhost:8080/",
          "height": 400
        },
        "outputId": "79b3b4e8-a9f9-47fa-e719-145ef9a721b7"
      },
      "cell_type": "code",
      "source": [
        "df = pd.read_csv('twitter-archive-enhanced.csv')\n",
        "df.head(3)"
      ],
      "execution_count": 11,
      "outputs": [
        {
          "output_type": "execute_result",
          "data": {
            "text/html": [
              "<div>\n",
              "<style scoped>\n",
              "    .dataframe tbody tr th:only-of-type {\n",
              "        vertical-align: middle;\n",
              "    }\n",
              "\n",
              "    .dataframe tbody tr th {\n",
              "        vertical-align: top;\n",
              "    }\n",
              "\n",
              "    .dataframe thead th {\n",
              "        text-align: right;\n",
              "    }\n",
              "</style>\n",
              "<table border=\"1\" class=\"dataframe\">\n",
              "  <thead>\n",
              "    <tr style=\"text-align: right;\">\n",
              "      <th></th>\n",
              "      <th>tweet_id</th>\n",
              "      <th>in_reply_to_status_id</th>\n",
              "      <th>in_reply_to_user_id</th>\n",
              "      <th>timestamp</th>\n",
              "      <th>source</th>\n",
              "      <th>text</th>\n",
              "      <th>retweeted_status_id</th>\n",
              "      <th>retweeted_status_user_id</th>\n",
              "      <th>retweeted_status_timestamp</th>\n",
              "      <th>expanded_urls</th>\n",
              "      <th>rating_numerator</th>\n",
              "      <th>rating_denominator</th>\n",
              "      <th>name</th>\n",
              "      <th>doggo</th>\n",
              "      <th>floofer</th>\n",
              "      <th>pupper</th>\n",
              "      <th>puppo</th>\n",
              "    </tr>\n",
              "  </thead>\n",
              "  <tbody>\n",
              "    <tr>\n",
              "      <th>0</th>\n",
              "      <td>892420643555336193</td>\n",
              "      <td>NaN</td>\n",
              "      <td>NaN</td>\n",
              "      <td>2017-08-01 16:23:56 +0000</td>\n",
              "      <td>&lt;a href=\"http://twitter.com/download/iphone\" r...</td>\n",
              "      <td>This is Phineas. He's a mystical boy. Only eve...</td>\n",
              "      <td>NaN</td>\n",
              "      <td>NaN</td>\n",
              "      <td>NaN</td>\n",
              "      <td>https://twitter.com/dog_rates/status/892420643...</td>\n",
              "      <td>13</td>\n",
              "      <td>10</td>\n",
              "      <td>Phineas</td>\n",
              "      <td>None</td>\n",
              "      <td>None</td>\n",
              "      <td>None</td>\n",
              "      <td>None</td>\n",
              "    </tr>\n",
              "    <tr>\n",
              "      <th>1</th>\n",
              "      <td>892177421306343426</td>\n",
              "      <td>NaN</td>\n",
              "      <td>NaN</td>\n",
              "      <td>2017-08-01 00:17:27 +0000</td>\n",
              "      <td>&lt;a href=\"http://twitter.com/download/iphone\" r...</td>\n",
              "      <td>This is Tilly. She's just checking pup on you....</td>\n",
              "      <td>NaN</td>\n",
              "      <td>NaN</td>\n",
              "      <td>NaN</td>\n",
              "      <td>https://twitter.com/dog_rates/status/892177421...</td>\n",
              "      <td>13</td>\n",
              "      <td>10</td>\n",
              "      <td>Tilly</td>\n",
              "      <td>None</td>\n",
              "      <td>None</td>\n",
              "      <td>None</td>\n",
              "      <td>None</td>\n",
              "    </tr>\n",
              "    <tr>\n",
              "      <th>2</th>\n",
              "      <td>891815181378084864</td>\n",
              "      <td>NaN</td>\n",
              "      <td>NaN</td>\n",
              "      <td>2017-07-31 00:18:03 +0000</td>\n",
              "      <td>&lt;a href=\"http://twitter.com/download/iphone\" r...</td>\n",
              "      <td>This is Archie. He is a rare Norwegian Pouncin...</td>\n",
              "      <td>NaN</td>\n",
              "      <td>NaN</td>\n",
              "      <td>NaN</td>\n",
              "      <td>https://twitter.com/dog_rates/status/891815181...</td>\n",
              "      <td>12</td>\n",
              "      <td>10</td>\n",
              "      <td>Archie</td>\n",
              "      <td>None</td>\n",
              "      <td>None</td>\n",
              "      <td>None</td>\n",
              "      <td>None</td>\n",
              "    </tr>\n",
              "  </tbody>\n",
              "</table>\n",
              "</div>"
            ],
            "text/plain": [
              "             tweet_id  in_reply_to_status_id  in_reply_to_user_id  \\\n",
              "0  892420643555336193                    NaN                  NaN   \n",
              "1  892177421306343426                    NaN                  NaN   \n",
              "2  891815181378084864                    NaN                  NaN   \n",
              "\n",
              "                   timestamp  \\\n",
              "0  2017-08-01 16:23:56 +0000   \n",
              "1  2017-08-01 00:17:27 +0000   \n",
              "2  2017-07-31 00:18:03 +0000   \n",
              "\n",
              "                                              source  \\\n",
              "0  <a href=\"http://twitter.com/download/iphone\" r...   \n",
              "1  <a href=\"http://twitter.com/download/iphone\" r...   \n",
              "2  <a href=\"http://twitter.com/download/iphone\" r...   \n",
              "\n",
              "                                                text  retweeted_status_id  \\\n",
              "0  This is Phineas. He's a mystical boy. Only eve...                  NaN   \n",
              "1  This is Tilly. She's just checking pup on you....                  NaN   \n",
              "2  This is Archie. He is a rare Norwegian Pouncin...                  NaN   \n",
              "\n",
              "   retweeted_status_user_id retweeted_status_timestamp  \\\n",
              "0                       NaN                        NaN   \n",
              "1                       NaN                        NaN   \n",
              "2                       NaN                        NaN   \n",
              "\n",
              "                                       expanded_urls  rating_numerator  \\\n",
              "0  https://twitter.com/dog_rates/status/892420643...                13   \n",
              "1  https://twitter.com/dog_rates/status/892177421...                13   \n",
              "2  https://twitter.com/dog_rates/status/891815181...                12   \n",
              "\n",
              "   rating_denominator     name doggo floofer pupper puppo  \n",
              "0                  10  Phineas  None    None   None  None  \n",
              "1                  10    Tilly  None    None   None  None  \n",
              "2                  10   Archie  None    None   None  None  "
            ]
          },
          "metadata": {
            "tags": []
          },
          "execution_count": 11
        }
      ]
    },
    {
      "metadata": {
        "id": "bOa4e6aDYKe9",
        "colab_type": "code",
        "colab": {
          "base_uri": "https://localhost:8080/",
          "height": 400
        },
        "outputId": "c1db0298-d925-4a26-b78a-a669fdcf258e"
      },
      "cell_type": "code",
      "source": [
        "from sqlalchemy import create_engine\n",
        "# Store cleaned master DataFrame ('df') in a table called master in bestofrt.db\n",
        "# bestofrt.db will be visible now in the Jupyter Notebook dashboard\n",
        "engine = create_engine('sqlite:///bestofrt.db')\n",
        "df.to_sql('master', engine, index=False)\n",
        "df_gather = pd.read_sql('SELECT * FROM master', engine)\n",
        "df_gather.head(3)"
      ],
      "execution_count": 13,
      "outputs": [
        {
          "output_type": "execute_result",
          "data": {
            "text/html": [
              "<div>\n",
              "<style scoped>\n",
              "    .dataframe tbody tr th:only-of-type {\n",
              "        vertical-align: middle;\n",
              "    }\n",
              "\n",
              "    .dataframe tbody tr th {\n",
              "        vertical-align: top;\n",
              "    }\n",
              "\n",
              "    .dataframe thead th {\n",
              "        text-align: right;\n",
              "    }\n",
              "</style>\n",
              "<table border=\"1\" class=\"dataframe\">\n",
              "  <thead>\n",
              "    <tr style=\"text-align: right;\">\n",
              "      <th></th>\n",
              "      <th>tweet_id</th>\n",
              "      <th>in_reply_to_status_id</th>\n",
              "      <th>in_reply_to_user_id</th>\n",
              "      <th>timestamp</th>\n",
              "      <th>source</th>\n",
              "      <th>text</th>\n",
              "      <th>retweeted_status_id</th>\n",
              "      <th>retweeted_status_user_id</th>\n",
              "      <th>retweeted_status_timestamp</th>\n",
              "      <th>expanded_urls</th>\n",
              "      <th>rating_numerator</th>\n",
              "      <th>rating_denominator</th>\n",
              "      <th>name</th>\n",
              "      <th>doggo</th>\n",
              "      <th>floofer</th>\n",
              "      <th>pupper</th>\n",
              "      <th>puppo</th>\n",
              "    </tr>\n",
              "  </thead>\n",
              "  <tbody>\n",
              "    <tr>\n",
              "      <th>0</th>\n",
              "      <td>892420643555336193</td>\n",
              "      <td>NaN</td>\n",
              "      <td>NaN</td>\n",
              "      <td>2017-08-01 16:23:56 +0000</td>\n",
              "      <td>&lt;a href=\"http://twitter.com/download/iphone\" r...</td>\n",
              "      <td>This is Phineas. He's a mystical boy. Only eve...</td>\n",
              "      <td>NaN</td>\n",
              "      <td>NaN</td>\n",
              "      <td>None</td>\n",
              "      <td>https://twitter.com/dog_rates/status/892420643...</td>\n",
              "      <td>13</td>\n",
              "      <td>10</td>\n",
              "      <td>Phineas</td>\n",
              "      <td>None</td>\n",
              "      <td>None</td>\n",
              "      <td>None</td>\n",
              "      <td>None</td>\n",
              "    </tr>\n",
              "    <tr>\n",
              "      <th>1</th>\n",
              "      <td>892177421306343426</td>\n",
              "      <td>NaN</td>\n",
              "      <td>NaN</td>\n",
              "      <td>2017-08-01 00:17:27 +0000</td>\n",
              "      <td>&lt;a href=\"http://twitter.com/download/iphone\" r...</td>\n",
              "      <td>This is Tilly. She's just checking pup on you....</td>\n",
              "      <td>NaN</td>\n",
              "      <td>NaN</td>\n",
              "      <td>None</td>\n",
              "      <td>https://twitter.com/dog_rates/status/892177421...</td>\n",
              "      <td>13</td>\n",
              "      <td>10</td>\n",
              "      <td>Tilly</td>\n",
              "      <td>None</td>\n",
              "      <td>None</td>\n",
              "      <td>None</td>\n",
              "      <td>None</td>\n",
              "    </tr>\n",
              "    <tr>\n",
              "      <th>2</th>\n",
              "      <td>891815181378084864</td>\n",
              "      <td>NaN</td>\n",
              "      <td>NaN</td>\n",
              "      <td>2017-07-31 00:18:03 +0000</td>\n",
              "      <td>&lt;a href=\"http://twitter.com/download/iphone\" r...</td>\n",
              "      <td>This is Archie. He is a rare Norwegian Pouncin...</td>\n",
              "      <td>NaN</td>\n",
              "      <td>NaN</td>\n",
              "      <td>None</td>\n",
              "      <td>https://twitter.com/dog_rates/status/891815181...</td>\n",
              "      <td>12</td>\n",
              "      <td>10</td>\n",
              "      <td>Archie</td>\n",
              "      <td>None</td>\n",
              "      <td>None</td>\n",
              "      <td>None</td>\n",
              "      <td>None</td>\n",
              "    </tr>\n",
              "  </tbody>\n",
              "</table>\n",
              "</div>"
            ],
            "text/plain": [
              "             tweet_id  in_reply_to_status_id  in_reply_to_user_id  \\\n",
              "0  892420643555336193                    NaN                  NaN   \n",
              "1  892177421306343426                    NaN                  NaN   \n",
              "2  891815181378084864                    NaN                  NaN   \n",
              "\n",
              "                   timestamp  \\\n",
              "0  2017-08-01 16:23:56 +0000   \n",
              "1  2017-08-01 00:17:27 +0000   \n",
              "2  2017-07-31 00:18:03 +0000   \n",
              "\n",
              "                                              source  \\\n",
              "0  <a href=\"http://twitter.com/download/iphone\" r...   \n",
              "1  <a href=\"http://twitter.com/download/iphone\" r...   \n",
              "2  <a href=\"http://twitter.com/download/iphone\" r...   \n",
              "\n",
              "                                                text  retweeted_status_id  \\\n",
              "0  This is Phineas. He's a mystical boy. Only eve...                  NaN   \n",
              "1  This is Tilly. She's just checking pup on you....                  NaN   \n",
              "2  This is Archie. He is a rare Norwegian Pouncin...                  NaN   \n",
              "\n",
              "   retweeted_status_user_id retweeted_status_timestamp  \\\n",
              "0                       NaN                       None   \n",
              "1                       NaN                       None   \n",
              "2                       NaN                       None   \n",
              "\n",
              "                                       expanded_urls  rating_numerator  \\\n",
              "0  https://twitter.com/dog_rates/status/892420643...                13   \n",
              "1  https://twitter.com/dog_rates/status/892177421...                13   \n",
              "2  https://twitter.com/dog_rates/status/891815181...                12   \n",
              "\n",
              "   rating_denominator     name doggo floofer pupper puppo  \n",
              "0                  10  Phineas  None    None   None  None  \n",
              "1                  10    Tilly  None    None   None  None  \n",
              "2                  10   Archie  None    None   None  None  "
            ]
          },
          "metadata": {
            "tags": []
          },
          "execution_count": 13
        }
      ]
    },
    {
      "metadata": {
        "id": "lZb9UDCtZHt8",
        "colab_type": "code",
        "colab": {}
      },
      "cell_type": "code",
      "source": [
        ""
      ],
      "execution_count": 0,
      "outputs": []
    }
  ]
}