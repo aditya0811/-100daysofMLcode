{
  "nbformat": 4,
  "nbformat_minor": 0,
  "metadata": {
    "colab": {
      "name": "Tableau.ipynb",
      "version": "0.3.2",
      "provenance": [],
      "include_colab_link": true
    },
    "kernelspec": {
      "name": "python3",
      "display_name": "Python 3"
    }
  },
  "cells": [
    {
      "cell_type": "markdown",
      "metadata": {
        "id": "view-in-github",
        "colab_type": "text"
      },
      "source": [
        "<a href=\"https://colab.research.google.com/github/aditya0811/-100daysofMLcode/blob/master/Day8_Tableau.ipynb\" target=\"_parent\"><img src=\"https://colab.research.google.com/assets/colab-badge.svg\" alt=\"Open In Colab\"/></a>"
      ]
    },
    {
      "metadata": {
        "id": "-3wVvtZterw6",
        "colab_type": "text"
      },
      "cell_type": "markdown",
      "source": [
        "**Differentiating on the basis of data using color on Tableau **\n",
        "\n",
        "Tableau guesses if numerical data is discrete or continuous and indicates this with color, blue for discrete and green for continuous"
      ]
    },
    {
      "metadata": {
        "id": "ZJP6frPbj0_x",
        "colab_type": "text"
      },
      "cell_type": "markdown",
      "source": [
        "**Combining data**\n",
        "\n",
        "\n",
        "*   Joins-If you drag the second sheet or table to the top panel but not on top of the first sheet, you'll get a join. Instead of stacking the data on top of each other, joins combines data from the sheets based on common values.\n",
        "*   Unions-Unions stack the data on top of each other, the second sheet ends up being appended to the end of the first sheet\n",
        "\n"
      ]
    },
    {
      "metadata": {
        "id": "9lZqLVgde7pG",
        "colab_type": "code",
        "colab": {}
      },
      "cell_type": "code",
      "source": [
        ""
      ],
      "execution_count": 0,
      "outputs": []
    }
  ]
}