{
 "cells": [
  {
   "cell_type": "markdown",
   "metadata": {},
   "source": [
    "# Using Open Street map\n",
    "https://www.openstreetmap.org/export#map=8/52.154/5.295\n",
    "\n",
    "This notebook is useful to calculate distance when we have longitude and latitude range in a data.\n",
    "\n",
    "Go to OpenStreetMap: https://www.openstreetmap.org/export#map=8/52.154/5.295\n",
    "On the left I entered the coordinates\n",
    "On my mac I used screen capture SHIFT + CMD + 4 to capture the highlighted area and save it to file\n",
    "With matplotlib.pyplot you can use plt.imread() to read the file\n",
    "With matplotlib.pyplot you can use imshow() to display the image. However, by default the xlim and ylim of the axes are the number of pixels of the image. As I want to align the map with a scatter plot I used the 'extent=[-75, -73, 40, 41.5]' parameter with imshow() the redefine the xlim/ylim or position coordinates of the map\n",
    "Hope this helps!\n",
    "\n"
   ]
  },
  {
   "cell_type": "markdown",
   "metadata": {},
   "source": [
    "Using this kenrnel-\n",
    "https://www.kaggle.com/breemen/nyc-taxi-fare-data-exploration\n"
   ]
  },
  {
   "cell_type": "code",
   "execution_count": null,
   "metadata": {
    "collapsed": true
   },
   "outputs": [],
   "source": [
    "#Picking up min,max latitude and longitude from df training set\n",
    "min(df_test.pickup_longitude.min(), df_test.dropoff_longitude.min()), \\\n",
    "max(df_test.pickup_longitude.max(), df_test.dropoff_longitude.max())\n",
    "##(-74.263242, -72.986532)\n",
    "\n",
    "min(df_test.pickup_latitude.min(), df_test.dropoff_latitude.min()), \\\n",
    "max(df_test.pickup_latitude.max(), df_test.dropoff_latitude.max())\n",
    "##(40.568973, 41.709555)\n",
    "\n",
    "#We will also need same for the test set hence we define a function instead ,for test set.\n",
    "#We define a bounding box of interest by [long_min, long_max, latt_min, latt_max] using the minimum and maximum coordinates \n",
    "#from the testset\n",
    "def select_within_boundingbox(df, BB):\n",
    "    return (df.pickup_longitude >= BB[0]) & (df.pickup_longitude <= BB[1]) & \\\n",
    "           (df.pickup_latitude >= BB[2]) & (df.pickup_latitude <= BB[3]) & \\\n",
    "           (df.dropoff_longitude >= BB[0]) & (df.dropoff_longitude <= BB[1]) & \\\n",
    "           (df.dropoff_latitude >= BB[2]) & (df.dropoff_latitude <= BB[3])\n",
    "\n",
    "# load image of NYC map\n",
    "BB = (-74.5, -72.8, 40.5, 41.8)\n",
    "nyc_map = plt.imread('https://aiblog.nl/download/nyc_-74.5_-72.8_40.5_41.8.png')\n",
    "\n",
    "# load extra image to zoom in on NYC\n",
    "BB_zoom = (-74.3, -73.7, 40.5, 40.9)\n",
    "nyc_map_zoom = plt.imread('https://aiblog.nl/download/nyc_-74.3_-73.7_40.5_40.9.png')"
   ]
  },
  {
   "cell_type": "code",
   "execution_count": 4,
   "metadata": {
    "collapsed": true
   },
   "outputs": [],
   "source": [
    "import numpy as np\n",
    "import pandas as pd\n",
    "import matplotlib.pyplot as plt\n",
    "import seaborn as sns\n",
    "% matplotlib inline\n",
    "plt.style.use('seaborn-whitegrid')\n",
    "# load image of NYC map\n",
    "BB = (-74.5, -72.8, 40.5, 41.8)\n",
    "nyc_map = plt.imread('https://aiblog.nl/download/nyc_-74.5_-72.8_40.5_41.8.png')\n",
    "\n",
    "# load extra image to zoom in on NYC\n",
    "BB_zoom = (-74.3, -73.7, 40.5, 40.9)\n",
    "nyc_map_zoom = plt.imread('https://aiblog.nl/download/nyc_-74.3_-73.7_40.5_40.9.png')\n",
    "\n",
    "# this function will be used more often to plot data on the NYC map\n",
    "def plot_on_map(df, BB, nyc_map, s=10, alpha=0.2):\n",
    "    fig, axs = plt.subplots(1, 2, figsize=(16,10))\n",
    "    axs[0].scatter(df.pickup_longitude, df.pickup_latitude, zorder=1, alpha=alpha, c='r', s=s)\n",
    "    axs[0].set_xlim((BB[0], BB[1]))\n",
    "    axs[0].set_ylim((BB[2], BB[3]))\n",
    "    axs[0].set_title('Pickup locations')\n",
    "    axs[0].imshow(nyc_map, zorder=0, extent=BB)\n",
    "\n",
    "    axs[1].scatter(df.dropoff_longitude, df.dropoff_latitude, zorder=1, alpha=alpha, c='r', s=s)\n",
    "    axs[1].set_xlim((BB[0], BB[1]))\n",
    "    axs[1].set_ylim((BB[2], BB[3]))\n",
    "    axs[1].set_title('Dropoff locations')\n",
    "    axs[1].imshow(nyc_map, zorder=0, extent=BB)\n",
    "\n",
    "#Here z order is determines whether points will be over line (zorder=1)or below line(zorder=0)-\n",
    "#https://matplotlib.org/examples/pylab_examples/zorder_demo.html\n",
    "\n",
    "#alpha represents opacity of line ,s represents marker size and set.xlim limits the graph\n"
   ]
  },
  {
   "cell_type": "markdown",
   "metadata": {},
   "source": [
    "##### If you see some noise or outliear after plotting say in case of taxi fare we had points water ,we need to remove it.\n",
    "Skip this section if no noise is present in your data.\n",
    "\n",
    "##### Removing datapoints in water (here datapoints in water is noise ) \n",
    "Some datapoints are located in the water. These are obviously noisy datapoints. To remove these datapoints, I create a boolean land/water map from the NYC map. For this I used Photoshop to threshold on the blue color of the water and to cleanup the map. The resulting map is shown below.\n",
    "\n",
    "We used here photoshop ,we can use a set of latitude and longitude to remove outliears. "
   ]
  },
  {
   "cell_type": "code",
   "execution_count": null,
   "metadata": {
    "collapsed": true
   },
   "outputs": [],
   "source": [
    "# translate longitude/latitude coordinate into image xy coordinate,so that we can delete outliears from an image we photoshop\n",
    "#in this case \n",
    "def lonlat_to_xy(longitude, latitude, dx, dy, BB):\n",
    "    return (dx*(longitude - BB[0])/(BB[1]-BB[0])).astype('int'), \\\n",
    "           (dy - dy*(latitude - BB[2])/(BB[3]-BB[2])).astype('int')\n",
    "\n",
    "\n",
    "pickup_x, pickup_y = lonlat_to_xy(df_train.pickup_longitude, df_train.pickup_latitude, \n",
    "                                  nyc_mask.shape[1], nyc_mask.shape[0], BB)\n",
    "dropoff_x, dropoff_y = lonlat_to_xy(df_train.dropoff_longitude, df_train.dropoff_latitude, \n",
    "                                  nyc_mask.shape[1], nyc_mask.shape[0], BB)\n",
    "\n",
    "#Removing these datapoints\n",
    "def remove_datapoints_from_water(df):\n",
    "    def lonlat_to_xy(longitude, latitude, dx, dy, BB):\n",
    "        return (dx*(longitude - BB[0])/(BB[1]-BB[0])).astype('int'), \\\n",
    "               (dy - dy*(latitude - BB[2])/(BB[3]-BB[2])).astype('int')\n",
    "\n",
    "    # define bounding box\n",
    "    BB = (-74.5, -72.8, 40.5, 41.8)\n",
    "    \n",
    "    # read nyc mask and turn into boolean map with\n",
    "    # land = True, water = False\n",
    "    nyc_mask = plt.imread('https://aiblog.nl/download/nyc_mask-74.5_-72.8_40.5_41.8.png')[:,:,0] > 0.9\n",
    "    #Above we took plt as dataset and selected all rows and columns with every datapoint greator which has value of being water \n",
    "    #greator than 0.9\n",
    "    \n",
    "    # calculate for each lon,lat coordinate the xy coordinate in the mask map\n",
    "    pickup_x, pickup_y = lonlat_to_xy(df.pickup_longitude, df.pickup_latitude, \n",
    "                                      nyc_mask.shape[1], nyc_mask.shape[0], BB)\n",
    "    dropoff_x, dropoff_y = lonlat_to_xy(df.dropoff_longitude, df.dropoff_latitude, \n",
    "                                      nyc_mask.shape[1], nyc_mask.shape[0], BB)    \n",
    "    # calculate boolean index\n",
    "    idx = nyc_mask[pickup_y, pickup_x] & nyc_mask[dropoff_y, dropoff_x]\n",
    "    \n",
    "    # return only datapoints on land\n",
    "    return df[idx]"
   ]
  },
  {
   "cell_type": "code",
   "execution_count": null,
   "metadata": {
    "collapsed": true
   },
   "outputs": [],
   "source": [
    "#here we can see all noise is gone\n",
    "plot_on_map(df_train, BB, nyc_map)"
   ]
  },
  {
   "cell_type": "markdown",
   "metadata": {
    "collapsed": true
   },
   "source": [
    "#### Datapoint density per sq mile¶\n",
    "A scatterplot of the pickup and dropoff locations gives a quick impression of the density. However, it is more accurate to count the number of datapoints per area to visualize the density. The code below counts pickup and dropoff datapoints per sq miles. This gives a better view on the 'hot spots'."
   ]
  },
  {
   "cell_type": "code",
   "execution_count": null,
   "metadata": {
    "collapsed": true
   },
   "outputs": [],
   "source": [
    "# For this plot and further analysis, we need a function to calculate the distance in miles between locations in lon,lat coordinates.\n",
    "# This function is based on https://stackoverflow.com/questions/27928/\n",
    "# calculate-distance-between-two-latitude-longitude-points-haversine-formula \n",
    "# return distance in miles\n",
    "def distance(lat1, lon1, lat2, lon2):\n",
    "    p = 0.017453292519943295 # Pi/180\n",
    "    a = 0.5 - np.cos((lat2 - lat1) * p)/2 + np.cos(lat1 * p) * np.cos(lat2 * p) * (1 - np.cos((lon2 - lon1) * p)) / 2\n",
    "    return 0.6213712 * 12742 * np.arcsin(np.sqrt(a)) # 2*R*asin...\n",
    "\n",
    "# First calculate two arrays with datapoint density per sq mile\n",
    "n_lon, n_lat = 200, 200 # number of grid bins per longitude, latitude dimension\n",
    "density_pickup, density_dropoff = np.zeros((n_lat, n_lon)), np.zeros((n_lat, n_lon)) # prepare arrays\n",
    "\n",
    "# To calculate the number of datapoints in a grid area, the numpy.digitize() function is used. \n",
    "# This function needs an array with the (location) bins for counting the number of datapoints\n",
    "# per bin.\n",
    "bins_lon = np.zeros(n_lon+1) # bin\n",
    "bins_lat = np.zeros(n_lat+1) # bin\n",
    "delta_lon = (BB[1]-BB[0]) / n_lon # bin longutide width\n",
    "delta_lat = (BB[3]-BB[2]) / n_lat # bin latitude height\n",
    "bin_width_miles = distance(BB[2], BB[1], BB[2], BB[0]) / n_lon # bin width in miles\n",
    "bin_height_miles = distance(BB[3], BB[0], BB[2], BB[0]) / n_lat # bin height in miles\n",
    "for i in range(n_lon+1):\n",
    "    bins_lon[i] = BB[0] + i * delta_lon\n",
    "for j in range(n_lat+1):\n",
    "    bins_lat[j] = BB[2] + j * delta_lat\n",
    "    \n",
    "# Digitize per longitude, latitude dimension\n",
    "inds_pickup_lon = np.digitize(df_train.pickup_longitude, bins_lon)\n",
    "inds_pickup_lat = np.digitize(df_train.pickup_latitude, bins_lat)\n",
    "inds_dropoff_lon = np.digitize(df_train.dropoff_longitude, bins_lon)\n",
    "inds_dropoff_lat = np.digitize(df_train.dropoff_latitude, bins_lat)\n",
    "\n",
    "# Count per grid bin\n",
    "# note: as the density_pickup will be displayed as image, the first index is the y-direction, \n",
    "#       the second index is the x-direction. Also, the y-direction needs to be reversed for\n",
    "#       properly displaying (therefore the (n_lat-j) term)\n",
    "dxdy = bin_width_miles * bin_height_miles\n",
    "for i in range(n_lon):\n",
    "    for j in range(n_lat):\n",
    "        density_pickup[j, i] = np.sum((inds_pickup_lon==i+1) & (inds_pickup_lat==(n_lat-j))) / dxdy\n",
    "        density_dropoff[j, i] = np.sum((inds_dropoff_lon==i+1) & (inds_dropoff_lat==(n_lat-j))) / dxdy\n",
    "        \n",
    "# Plot the density arrays\n",
    "fig, axs = plt.subplots(2, 1, figsize=(18, 24))\n",
    "axs[0].imshow(nyc_map, zorder=0, extent=BB);\n",
    "im = axs[0].imshow(np.log1p(density_pickup), zorder=1, extent=BB, alpha=0.6, cmap='plasma')\n",
    "axs[0].set_title('Pickup density [datapoints per sq mile]')\n",
    "cbar = fig.colorbar(im, ax=axs[0])\n",
    "cbar.set_label('log(1 + #datapoints per sq mile)', rotation=270)\n",
    "\n",
    "axs[1].imshow(nyc_map, zorder=0, extent=BB);\n",
    "im = axs[1].imshow(np.log1p(density_dropoff), zorder=1, extent=BB, alpha=0.6, cmap='plasma')\n",
    "axs[1].set_title('Dropoff density [datapoints per sq mile]')\n",
    "cbar = fig.colorbar(im, ax=axs[1])\n",
    "cbar.set_label('log(1 + #datapoints per sq mile)', rotation=270)"
   ]
  },
  {
   "cell_type": "markdown",
   "metadata": {},
   "source": [
    "### Using Hires\n",
    "\n",
    "#### This will help up see streets and data points will be very small,like ants moving in room,but ants path visible"
   ]
  },
  {
   "cell_type": "code",
   "execution_count": null,
   "metadata": {
    "collapsed": true
   },
   "outputs": [],
   "source": [
    "def plot_hires(df, BB, figsize=(12, 12), ax=None, c=('r', 'b')):\n",
    "    if ax == None:\n",
    "        fig, ax = plt.subplots(1, 1, figsize=figsize)\n",
    "\n",
    "    idx = select_within_boundingbox(df, BB)\n",
    "    ax.scatter(df[idx].pickup_longitude, df[idx].pickup_latitude, c=c[0], s=0.01, alpha=0.5)\n",
    "    ax.scatter(df[idx].dropoff_longitude, df[idx].dropoff_latitude, c=c[1], s=0.01, alpha=0.5)\n",
    "    \n",
    "plot_hires(df_train, (-74.1, -73.7, 40.6, 40.9))\n",
    "plot_hires(df_train, (-74, -73.95, 40.7, 40.8))"
   ]
  }
 ],
 "metadata": {
  "kernelspec": {
   "display_name": "Python 3",
   "language": "python",
   "name": "python3"
  },
  "language_info": {
   "codemirror_mode": {
    "name": "ipython",
    "version": 3
   },
   "file_extension": ".py",
   "mimetype": "text/x-python",
   "name": "python",
   "nbconvert_exporter": "python",
   "pygments_lexer": "ipython3",
   "version": "3.6.3"
  }
 },
 "nbformat": 4,
 "nbformat_minor": 2
}
