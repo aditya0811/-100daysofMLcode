{
  "nbformat": 4,
  "nbformat_minor": 0,
  "metadata": {
    "colab": {
      "name": "Probability.ipynb",
      "version": "0.3.2",
      "provenance": [],
      "include_colab_link": true
    },
    "kernelspec": {
      "name": "python3",
      "display_name": "Python 3"
    }
  },
  "cells": [
    {
      "cell_type": "markdown",
      "metadata": {
        "id": "view-in-github",
        "colab_type": "text"
      },
      "source": [
        "<a href=\"https://colab.research.google.com/github/aditya0811/-100daysofMLcode/blob/master/Probability.ipynb\" target=\"_parent\"><img src=\"https://colab.research.google.com/assets/colab-badge.svg\" alt=\"Open In Colab\"/></a>"
      ]
    },
    {
      "metadata": {
        "id": "qVvuS9e_HusY",
        "colab_type": "text"
      },
      "cell_type": "markdown",
      "source": [
        "## SOCKS FROM BOX"
      ]
    },
    {
      "metadata": {
        "id": "POANPAisHILP",
        "colab_type": "text"
      },
      "cell_type": "markdown",
      "source": [
        "**Given** \n",
        "3 pairs each of white, gray, and black socks (i.e. six socks of each of the three colors, for eighteen socks in total). In each of the questions below, we draw socks randomly from the box without replacement. Note that a pair of matching socks is simply two of the same color: each sock will fit a foot of either handedness – uh, footedness. (Socks do not have chirality, for those into mathematical terms.)"
      ]
    },
    {
      "metadata": {
        "id": "MkiXeVyeHPvE",
        "colab_type": "text"
      },
      "cell_type": "markdown",
      "source": [
        "**Q1**-Let's say we draw two socks from the box. What is the probability that we draw a matching pair?\n",
        "\n",
        "**A1** - (3*6C2) / (18C2)"
      ]
    },
    {
      "metadata": {
        "id": "TCLhyCNdH4UT",
        "colab_type": "text"
      },
      "cell_type": "markdown",
      "source": [
        ""
      ]
    },
    {
      "metadata": {
        "id": "QhDKlODxHPPo",
        "colab_type": "code",
        "colab": {}
      },
      "cell_type": "code",
      "source": [
        ""
      ],
      "execution_count": 0,
      "outputs": []
    },
    {
      "metadata": {
        "id": "x_h-khWLeFV8",
        "colab_type": "text"
      },
      "cell_type": "markdown",
      "source": [
        ""
      ]
    }
  ]
}
