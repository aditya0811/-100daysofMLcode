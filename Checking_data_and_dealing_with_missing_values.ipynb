{
  "nbformat": 4,
  "nbformat_minor": 0,
  "metadata": {
    "colab": {
      "name": "Checking data and dealing with missing values.ipynb",
      "version": "0.3.2",
      "provenance": [],
      "include_colab_link": true
    },
    "kernelspec": {
      "name": "python3",
      "display_name": "Python 3"
    }
  },
  "cells": [
    {
      "cell_type": "markdown",
      "metadata": {
        "id": "view-in-github",
        "colab_type": "text"
      },
      "source": [
        "<a href=\"https://colab.research.google.com/github/aditya0811/-100daysofMLcode/blob/master/Checking_data_and_dealing_with_missing_values.ipynb\" target=\"_parent\"><img src=\"https://colab.research.google.com/assets/colab-badge.svg\" alt=\"Open In Colab\"/></a>"
      ]
    },
    {
      "metadata": {
        "id": "865pmU-3Zm75",
        "colab_type": "code",
        "colab": {}
      },
      "cell_type": "code",
      "source": [
        "df= pd.read_csv(\"/content/sample_data/california_housing_test.csv\")"
      ],
      "execution_count": 0,
      "outputs": []
    },
    {
      "metadata": {
        "id": "2yYCZ9GjR-Pq",
        "colab_type": "text"
      },
      "cell_type": "markdown",
      "source": [
        "**Checking Data**\n"
      ]
    },
    {
      "metadata": {
        "id": "X0t5Qm65SDFY",
        "colab_type": "code",
        "outputId": "f7f6e8f3-4960-47bf-a94b-d5bb604cc136",
        "colab": {
          "base_uri": "https://localhost:8080/",
          "height": 33
        }
      },
      "cell_type": "code",
      "source": [
        "# this returns a tuple of the dimensions of the dataframe\n",
        "df.shape"
      ],
      "execution_count": 0,
      "outputs": [
        {
          "output_type": "execute_result",
          "data": {
            "text/plain": [
              "(3000, 9)"
            ]
          },
          "metadata": {
            "tags": []
          },
          "execution_count": 5
        }
      ]
    },
    {
      "metadata": {
        "id": "MRB2XLBHSC1H",
        "colab_type": "code",
        "outputId": "447fe535-a108-45ae-d91a-f7e9c048cbd4",
        "colab": {
          "base_uri": "https://localhost:8080/",
          "height": 180
        }
      },
      "cell_type": "code",
      "source": [
        "# this returns the datatypes of the columns\n",
        "df.dtypes"
      ],
      "execution_count": 0,
      "outputs": [
        {
          "output_type": "execute_result",
          "data": {
            "text/plain": [
              "longitude             float64\n",
              "latitude              float64\n",
              "housing_median_age    float64\n",
              "total_rooms           float64\n",
              "total_bedrooms        float64\n",
              "population            float64\n",
              "households            float64\n",
              "median_income         float64\n",
              "median_house_value    float64\n",
              "dtype: object"
            ]
          },
          "metadata": {
            "tags": []
          },
          "execution_count": 6
        }
      ]
    },
    {
      "metadata": {
        "id": "0i20Pi0eSuLy",
        "colab_type": "code",
        "colab": {}
      },
      "cell_type": "code",
      "source": [
        "# Sometimes the datatype for column appears to be object, further investigation shows it's a string\n",
        "type(df[COLUMN NAME APPERAING OBJECT][0])\n",
        "#Pandas actually stores [pointers](https://en.wikipedia.org/wiki/Pointer_(computer_programming) to strings in\n",
        "#dataframes and series, which is why object instead of str appears as the datatype. Understanding this is not \n",
        "#essential for data analysis - just know that strings will appear as objects in Pandas."
      ],
      "execution_count": 0,
      "outputs": []
    },
    {
      "metadata": {
        "id": "qgg9tcVsTZs1",
        "colab_type": "code",
        "colab": {}
      },
      "cell_type": "code",
      "source": [
        "# this displays a concise summary of the dataframe,\n",
        "# including the number of non-null values in each column\n",
        "df.info()"
      ],
      "execution_count": 0,
      "outputs": []
    },
    {
      "metadata": {
        "id": "x3J7WfSDTe1e",
        "colab_type": "code",
        "colab": {}
      },
      "cell_type": "code",
      "source": [
        "# this returns the number of unique values in each column\n",
        "df.nunique()"
      ],
      "execution_count": 0,
      "outputs": []
    },
    {
      "metadata": {
        "id": "gQ-zDmXRTiUW",
        "colab_type": "code",
        "colab": {}
      },
      "cell_type": "code",
      "source": [
        "# this returns useful descriptive statistics for each column of data\n",
        "df.describe()"
      ],
      "execution_count": 0,
      "outputs": []
    },
    {
      "metadata": {
        "id": "KLQxb2f8TnUQ",
        "colab_type": "code",
        "colab": {}
      },
      "cell_type": "code",
      "source": [
        "# same thing applies to `.tail()` which returns the last few rows\n",
        "df.tail(2)"
      ],
      "execution_count": 0,
      "outputs": []
    },
    {
      "metadata": {
        "id": "U01HrdQkyryP",
        "colab_type": "text"
      },
      "cell_type": "markdown",
      "source": [
        "**Breaking data cells,creating new data frames**"
      ]
    },
    {
      "metadata": {
        "id": "38XV2iW-T13l",
        "colab_type": "code",
        "colab": {}
      },
      "cell_type": "code",
      "source": [
        "# select all the columns from 'id' to the last mean column\n",
        "df_means = df.loc[:,'longitude':'population']\n",
        "df_means.head()"
      ],
      "execution_count": 0,
      "outputs": []
    },
    {
      "metadata": {
        "id": "TwiytfRhOFNy",
        "colab_type": "text"
      },
      "cell_type": "markdown",
      "source": [
        "**Problems with data set**\n",
        "\n",
        "\n",
        "1.   Missing values\n",
        "2.   Duplicate values\n",
        "3. Incorrect data types\n",
        "\n"
      ]
    },
    {
      "metadata": {
        "id": "c6JABwc7PKE2",
        "colab_type": "text"
      },
      "cell_type": "markdown",
      "source": [
        "**Missing values**"
      ]
    },
    {
      "metadata": {
        "id": "_DQBd_lePJxA",
        "colab_type": "code",
        "colab": {}
      },
      "cell_type": "code",
      "source": [
        "#Using mean\n",
        "mean= df['COLUMN NAME'].mean()\n",
        "df['COLUMN NAME'].fillna(mean,inplace=True)"
      ],
      "execution_count": 0,
      "outputs": []
    },
    {
      "metadata": {
        "id": "vQfKzzXcQIjL",
        "colab_type": "text"
      },
      "cell_type": "markdown",
      "source": [
        "**Duplicate values**"
      ]
    },
    {
      "metadata": {
        "id": "pGZI6B9UZxs_",
        "colab_type": "code",
        "colab": {}
      },
      "cell_type": "code",
      "source": [
        "#removing entire rows of duplicate data\n",
        "df.drop_duplicates(inplace= True)"
      ],
      "execution_count": 0,
      "outputs": []
    },
    {
      "metadata": {
        "id": "BH1h-gq4Q9xL",
        "colab_type": "text"
      },
      "cell_type": "markdown",
      "source": [
        "**Converting data types**"
      ]
    },
    {
      "metadata": {
        "id": "NBNDBRhpRAY6",
        "colab_type": "code",
        "colab": {}
      },
      "cell_type": "code",
      "source": [
        "df['COLUMN NAME']=pd.to_datetime(df['COLUMN NAME'])"
      ],
      "execution_count": 0,
      "outputs": []
    }
  ]
}