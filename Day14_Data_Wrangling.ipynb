{
  "nbformat": 4,
  "nbformat_minor": 0,
  "metadata": {
    "colab": {
      "name": "Data Wrangling.ipynb",
      "version": "0.3.2",
      "provenance": [],
      "include_colab_link": true
    },
    "kernelspec": {
      "name": "python3",
      "display_name": "Python 3"
    }
  },
  "cells": [
    {
      "cell_type": "markdown",
      "metadata": {
        "id": "view-in-github",
        "colab_type": "text"
      },
      "source": [
        "<a href=\"https://colab.research.google.com/github/aditya0811/-100daysofMLcode/blob/master/Data_Wrangling.ipynb\" target=\"_parent\"><img src=\"https://colab.research.google.com/assets/colab-badge.svg\" alt=\"Open In Colab\"/></a>"
      ]
    },
    {
      "metadata": {
        "id": "Jn4NIX54sleB",
        "colab_type": "text"
      },
      "cell_type": "markdown",
      "source": [
        "**DATA WRANGLING**- It is process of gathering,assessing and cleaning data."
      ]
    },
    {
      "metadata": {
        "id": "Izy-BJzh9_dm",
        "colab_type": "text"
      },
      "cell_type": "markdown",
      "source": [
        "**Gathering**"
      ]
    },
    {
      "metadata": {
        "id": "CVrNjBfSswCk",
        "colab_type": "code",
        "colab": {}
      },
      "cell_type": "code",
      "source": [
        "#Using home Desktop and Python ,first move the zip file to your Python working directory\n",
        "import zipfile\n",
        "# Extract all contents from zip file\n",
        "with zipfile.ZipFile('zipname', 'r_or_w parameter') as myzip:\n",
        "    myzip.extractall()"
      ],
      "execution_count": 0,
      "outputs": []
    },
    {
      "metadata": {
        "id": "7Ibr_QTqP5WH",
        "colab_type": "text"
      },
      "cell_type": "markdown",
      "source": [
        "**Actions**\n"
      ]
    },
    {
      "metadata": {
        "id": "0tTlaIcuP9by",
        "colab_type": "code",
        "colab": {}
      },
      "cell_type": "code",
      "source": [
        "#Copying data frame\n",
        "#https://datacarpentry.org/python-ecology-lesson/03-index-slice-subset/\n",
        "df_new= df.copy()"
      ],
      "execution_count": 0,
      "outputs": []
    },
    {
      "metadata": {
        "id": "LrsuOGLjQFge",
        "colab_type": "code",
        "colab": {}
      },
      "cell_type": "code",
      "source": [
        "#renaming a column\n",
        "df_clean = df_clean.rename(columns={'ApplicationP': 'ApplicationProcedure',\n",
        "                                    'AboutC': 'AboutCompany',}"
      ],
      "execution_count": 0,
      "outputs": []
    },
    {
      "metadata": {
        "id": "0gxRtFu9R_Ln",
        "colab_type": "code",
        "colab": {}
      },
      "cell_type": "code",
      "source": [
        "#To replace a set of words in a column in df, sat we want to replace cat,dog in each row whereever it is \n",
        "#appearing to animals we will use a=['cat','dog']\n",
        "df_clean.replace(a, 'animals', inplace=True)"
      ],
      "execution_count": 0,
      "outputs": []
    },
    {
      "metadata": {
        "id": "RpGkw2L5R_JB",
        "colab_type": "code",
        "colab": {}
      },
      "cell_type": "code",
      "source": [
        "#to randomly see rows for assessing data\n",
        "df.sample()"
      ],
      "execution_count": 0,
      "outputs": []
    },
    {
      "metadata": {
        "id": "mE9I9xF_D2Nf",
        "colab_type": "code",
        "colab": {}
      },
      "cell_type": "code",
      "source": [
        "#Replacing a character fro mwhole column\n",
        "# Replace ! with . in body weight and brain weight columns\n",
        "df_clean['Body weight (kg)'] = df_clean['Body weight (kg)'].str.replace('!', '.')"
      ],
      "execution_count": 0,
      "outputs": []
    },
    {
      "metadata": {
        "id": "kiBdvn9sxPow",
        "colab_type": "code",
        "colab": {}
      },
      "cell_type": "code",
      "source": [
        "#joining two tables having same columns\n",
        "#https://chrisalbon.com/python/data_wrangling/pandas_join_merge_dataframe/\n",
        "frames=[treatments,df]\n",
        "pd.concat(frames)"
      ],
      "execution_count": 0,
      "outputs": []
    },
    {
      "metadata": {
        "id": "lX6_HVeYF_Ep",
        "colab_type": "code",
        "colab": {}
      },
      "cell_type": "code",
      "source": [
        "#to extract everything except alphabets \n",
        "patients_clean['phone_number'] = patients_clean.contact.str.extract('((?:\\+\\d{1,2}\\s)?\\(?\\d{3}\\)?[\\s.-]?\\d{3}[\\s.-]?\\d{4})', expand=True)"
      ],
      "execution_count": 0,
      "outputs": []
    },
    {
      "metadata": {
        "id": "uvgUIpjEGEpG",
        "colab_type": "code",
        "colab": {}
      },
      "cell_type": "code",
      "source": [
        "#to extract string with alaphabets having numbers in between\n",
        "patients_clean['email'] = patients_clean.contact.str.extract('([a-zA-Z][a-zA-Z0-9_.+-]+@[a-zA-Z0-9-]+\\.[a-zA-Z0-9-.]+[a-zA-Z])', expand=True)"
      ],
      "execution_count": 0,
      "outputs": []
    },
    {
      "metadata": {
        "id": "fsmr83_bj_7A",
        "colab_type": "code",
        "colab": {}
      },
      "cell_type": "code",
      "source": [
        "#Using melt function to restructure a column\n",
        "#Here 2nd argument contains columns unchanged,3rd argument column name ,4 argument values for the column as if there was not any restructuring.\n",
        "melted = pd.melt(treatments, id_vars=[\"given_name\",'surname','hba1c_start','hba1c_change','hba1c_end'], \n",
        "                 var_name=\"Treatment\", value_name='dose')"
      ],
      "execution_count": 0,
      "outputs": []
    },
    {
      "metadata": {
        "id": "cHGUTsYDp__K",
        "colab_type": "code",
        "colab": {}
      },
      "cell_type": "code",
      "source": [
        "#Replacing abrevations in the columns using dictionary\n",
        "# Mapping from full state name to abbreviation and applying function to the column\n",
        "state_abbrev = {'California': 'CA',\n",
        "                'New York': 'NY',\n",
        "                'Illinois': 'IL',\n",
        "                'Florida': 'FL',\n",
        "                'Nebraska': 'NE'}\n",
        "\n",
        "# Function to apply\n",
        "def abbreviate_state(patient):\n",
        "    if patient['state'] in state_abbrev.keys():\n",
        "        abbrev = state_abbrev[patient['state']]\n",
        "        return abbrev\n",
        "    else:\n",
        "        return patient['state']\n",
        "    \n",
        "patients_clean['state'] = patients_clean.apply(abbreviate_state, axis=1)\n"
      ],
      "execution_count": 0,
      "outputs": []
    },
    {
      "metadata": {
        "id": "UndZWbgnmD20",
        "colab_type": "code",
        "colab": {}
      },
      "cell_type": "code",
      "source": [
        "#Changing data types\n",
        "# To category\n",
        "patients_clean.assigned_sex = patients_clean.assigned_sex.astype('category')\n",
        "patients_clean.state = patients_clean.state.astype('category')\n",
        "\n",
        "# To datetime\n",
        "patients_clean.birthdate = pd.to_datetime(patients_clean.birthdate)\n",
        "\n",
        "# Strip u and to integer\n",
        "treatments_clean.dose_start = treatments_clean.dose_start.str.strip('u').astype(int)"
      ],
      "execution_count": 0,
      "outputs": []
    },
    {
      "metadata": {
        "id": "r0bJ5USBnwSH",
        "colab_type": "code",
        "colab": {}
      },
      "cell_type": "code",
      "source": [
        "#Removing the duplicates from the column\n",
        "patients_clean = patients_clean[~((patients_clean.address.duplicated()) & patients_clean.address.notnull())]"
      ],
      "execution_count": 0,
      "outputs": []
    },
    {
      "metadata": {
        "id": "YnynbWVsnz1H",
        "colab_type": "code",
        "colab": {}
      },
      "cell_type": "code",
      "source": [
        "#to access a particular variable using loc,here we accessed the weight of the row which has surname == Zaitseva\n",
        "weight_kg = patients_clean.weight.min()\n",
        "mask = patients_clean.surname == 'Zaitseva'\n",
        "column_name = 'weight'\n",
        "patients_clean.loc[mask, column_name] = weight_kg * 2.20462"
      ],
      "execution_count": 0,
      "outputs": []
    }
  ]
}
